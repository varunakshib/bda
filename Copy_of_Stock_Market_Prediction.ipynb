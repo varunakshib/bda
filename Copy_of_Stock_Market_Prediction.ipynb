{
  "nbformat": 4,
  "nbformat_minor": 0,
  "metadata": {
    "colab": {
      "provenance": [],
      "gpuType": "T4"
    },
    "kernelspec": {
      "name": "python3",
      "display_name": "Python 3"
    },
    "language_info": {
      "name": "python"
    },
    "accelerator": "GPU"
  },
  "cells": [
    {
      "cell_type": "code",
      "execution_count": null,
      "metadata": {
        "colab": {
          "base_uri": "https://localhost:8080/"
        },
        "id": "pHdE_QwNt5hB",
        "outputId": "3434436d-44e7-447e-bfbb-6aef2ecd7e1b"
      },
      "outputs": [
        {
          "output_type": "stream",
          "name": "stdout",
          "text": [
            "Collecting pyspark\n",
            "  Downloading pyspark-3.5.1.tar.gz (317.0 MB)\n",
            "\u001b[2K     \u001b[90m━━━━━━━━━━━━━━━━━━━━━━━━━━━━━━━━━━━━━━━━\u001b[0m \u001b[32m317.0/317.0 MB\u001b[0m \u001b[31m4.2 MB/s\u001b[0m eta \u001b[36m0:00:00\u001b[0m\n",
            "\u001b[?25h  Preparing metadata (setup.py) ... \u001b[?25l\u001b[?25hdone\n",
            "Requirement already satisfied: yfinance in /usr/local/lib/python3.10/dist-packages (0.2.37)\n",
            "Requirement already satisfied: py4j==0.10.9.7 in /usr/local/lib/python3.10/dist-packages (from pyspark) (0.10.9.7)\n",
            "Requirement already satisfied: pandas>=1.3.0 in /usr/local/lib/python3.10/dist-packages (from yfinance) (2.0.3)\n",
            "Requirement already satisfied: numpy>=1.16.5 in /usr/local/lib/python3.10/dist-packages (from yfinance) (1.25.2)\n",
            "Requirement already satisfied: requests>=2.31 in /usr/local/lib/python3.10/dist-packages (from yfinance) (2.31.0)\n",
            "Requirement already satisfied: multitasking>=0.0.7 in /usr/local/lib/python3.10/dist-packages (from yfinance) (0.0.11)\n",
            "Requirement already satisfied: lxml>=4.9.1 in /usr/local/lib/python3.10/dist-packages (from yfinance) (4.9.4)\n",
            "Requirement already satisfied: appdirs>=1.4.4 in /usr/local/lib/python3.10/dist-packages (from yfinance) (1.4.4)\n",
            "Requirement already satisfied: pytz>=2022.5 in /usr/local/lib/python3.10/dist-packages (from yfinance) (2023.4)\n",
            "Requirement already satisfied: frozendict>=2.3.4 in /usr/local/lib/python3.10/dist-packages (from yfinance) (2.4.1)\n",
            "Requirement already satisfied: peewee>=3.16.2 in /usr/local/lib/python3.10/dist-packages (from yfinance) (3.17.1)\n",
            "Requirement already satisfied: beautifulsoup4>=4.11.1 in /usr/local/lib/python3.10/dist-packages (from yfinance) (4.12.3)\n",
            "Requirement already satisfied: html5lib>=1.1 in /usr/local/lib/python3.10/dist-packages (from yfinance) (1.1)\n",
            "Requirement already satisfied: soupsieve>1.2 in /usr/local/lib/python3.10/dist-packages (from beautifulsoup4>=4.11.1->yfinance) (2.5)\n",
            "Requirement already satisfied: six>=1.9 in /usr/local/lib/python3.10/dist-packages (from html5lib>=1.1->yfinance) (1.16.0)\n",
            "Requirement already satisfied: webencodings in /usr/local/lib/python3.10/dist-packages (from html5lib>=1.1->yfinance) (0.5.1)\n",
            "Requirement already satisfied: python-dateutil>=2.8.2 in /usr/local/lib/python3.10/dist-packages (from pandas>=1.3.0->yfinance) (2.8.2)\n",
            "Requirement already satisfied: tzdata>=2022.1 in /usr/local/lib/python3.10/dist-packages (from pandas>=1.3.0->yfinance) (2024.1)\n",
            "Requirement already satisfied: charset-normalizer<4,>=2 in /usr/local/lib/python3.10/dist-packages (from requests>=2.31->yfinance) (3.3.2)\n",
            "Requirement already satisfied: idna<4,>=2.5 in /usr/local/lib/python3.10/dist-packages (from requests>=2.31->yfinance) (3.6)\n",
            "Requirement already satisfied: urllib3<3,>=1.21.1 in /usr/local/lib/python3.10/dist-packages (from requests>=2.31->yfinance) (2.0.7)\n",
            "Requirement already satisfied: certifi>=2017.4.17 in /usr/local/lib/python3.10/dist-packages (from requests>=2.31->yfinance) (2024.2.2)\n",
            "Building wheels for collected packages: pyspark\n",
            "  Building wheel for pyspark (setup.py) ... \u001b[?25l\u001b[?25hdone\n",
            "  Created wheel for pyspark: filename=pyspark-3.5.1-py2.py3-none-any.whl size=317488491 sha256=4b7de25c7ee0c86bd140fbdf3ae6d174996e2e038ba1188bf6f3658c1ae8a02f\n",
            "  Stored in directory: /root/.cache/pip/wheels/80/1d/60/2c256ed38dddce2fdd93be545214a63e02fbd8d74fb0b7f3a6\n",
            "Successfully built pyspark\n",
            "Installing collected packages: pyspark\n",
            "Successfully installed pyspark-3.5.1\n"
          ]
        }
      ],
      "source": [
        "!pip install pyspark yfinance\n"
      ]
    },
    {
      "cell_type": "code",
      "source": [
        "import yfinance as yf\n",
        "from pyspark.sql import SparkSession\n",
        "from pyspark.sql.functions import col, lag, when\n",
        "from pyspark.sql.window import Window\n",
        "from pyspark.ml.feature import VectorAssembler\n",
        "from pyspark.ml.regression import RandomForestRegressor\n",
        "from pyspark.ml.evaluation import RegressionEvaluator\n",
        "from pyspark.sql.functions import mean, stddev, col, lag, when\n"
      ],
      "metadata": {
        "id": "SnZoQZKbuAtj"
      },
      "execution_count": null,
      "outputs": []
    },
    {
      "cell_type": "code",
      "source": [
        "spark = SparkSession.builder \\\n",
        "    .appName(\"StockMarketPrediction\") \\\n",
        "    .getOrCreate()\n"
      ],
      "metadata": {
        "id": "DGQ3VSPGpPyV"
      },
      "execution_count": null,
      "outputs": []
    },
    {
      "cell_type": "code",
      "source": [
        "COMPANY_CODES = ['TATAMOTORS.NS', 'HDFCBANK.NS', 'CIPLA.NS', 'WIPRO']"
      ],
      "metadata": {
        "id": "kpZ3HDd0zNc5"
      },
      "execution_count": null,
      "outputs": []
    },
    {
      "cell_type": "code",
      "source": [
        "# sp500 = yf.Ticker(\"^GSPC\")\n",
        "# df = sp500.history(period=\"max\")\n"
      ],
      "metadata": {
        "id": "aBluez_gr48f"
      },
      "execution_count": null,
      "outputs": []
    },
    {
      "cell_type": "code",
      "source": [
        "COMPANY_CODE = \"WIPRO.NS\""
      ],
      "metadata": {
        "id": "s3H2Ovg96dYV"
      },
      "execution_count": null,
      "outputs": []
    },
    {
      "cell_type": "code",
      "source": [
        "sp500 = yf.Ticker(COMPANY_CODE)\n",
        "df = sp500.history(period=\"max\")"
      ],
      "metadata": {
        "id": "ssAbLAvVtANj"
      },
      "execution_count": null,
      "outputs": []
    },
    {
      "cell_type": "code",
      "source": [
        "# stock_data = yf.download('TATAMOTORS.NS', start='2002-01-01', end='2023-01-06')\n",
        "# stock_data"
      ],
      "metadata": {
        "id": "wIPzDgGFuf8c"
      },
      "execution_count": null,
      "outputs": []
    },
    {
      "cell_type": "code",
      "source": [
        "# stock_data = yf.download('HDFCBANK.NS', start='2002-01-01', end='2023-01-06')\n",
        "# stock_data"
      ],
      "metadata": {
        "id": "wGZdx4wstpm6"
      },
      "execution_count": null,
      "outputs": []
    },
    {
      "cell_type": "code",
      "source": [
        "df"
      ],
      "metadata": {
        "colab": {
          "base_uri": "https://localhost:8080/",
          "height": 455
        },
        "id": "frLeJFIvs5RK",
        "outputId": "cadd2308-3077-44be-b6d8-4f701e8c6d00"
      },
      "execution_count": null,
      "outputs": [
        {
          "output_type": "execute_result",
          "data": {
            "text/plain": [
              "                                 Open        High         Low       Close  \\\n",
              "Date                                                                        \n",
              "1996-01-01 00:00:00+05:30    0.908191    0.908191    0.908191    0.908191   \n",
              "1996-01-02 00:00:00+05:30    0.837554    0.837554    0.837554    0.837554   \n",
              "1996-01-03 00:00:00+05:30    0.867827    0.867827    0.867827    0.867827   \n",
              "1996-01-04 00:00:00+05:30    0.867827    0.867827    0.867827    0.867827   \n",
              "1996-01-05 00:00:00+05:30    0.867827    0.867827    0.867827    0.867827   \n",
              "...                               ...         ...         ...         ...   \n",
              "2024-04-10 00:00:00+05:30  477.500000  479.450012  473.100006  477.299988   \n",
              "2024-04-12 00:00:00+05:30  475.000000  480.000000  470.000000  470.750000   \n",
              "2024-04-15 00:00:00+05:30  466.450012  468.350006  458.200012  459.350006   \n",
              "2024-04-16 00:00:00+05:30  453.049988  458.500000  444.799988  448.350006   \n",
              "2024-04-18 00:00:00+05:30  452.500000  452.600006  446.750000  450.200012   \n",
              "\n",
              "                             Volume  Dividends  Stock Splits  \n",
              "Date                                                          \n",
              "1996-01-01 00:00:00+05:30     19999        0.0           0.0  \n",
              "1996-01-02 00:00:00+05:30     39999        0.0           0.0  \n",
              "1996-01-03 00:00:00+05:30     19999        0.0           0.0  \n",
              "1996-01-04 00:00:00+05:30    119999        0.0           0.0  \n",
              "1996-01-05 00:00:00+05:30         0        0.0           0.0  \n",
              "...                             ...        ...           ...  \n",
              "2024-04-10 00:00:00+05:30   5385767        0.0           0.0  \n",
              "2024-04-12 00:00:00+05:30   6585023        0.0           0.0  \n",
              "2024-04-15 00:00:00+05:30   6088236        0.0           0.0  \n",
              "2024-04-16 00:00:00+05:30  10719712        0.0           0.0  \n",
              "2024-04-18 00:00:00+05:30   4663783        0.0           0.0  \n",
              "\n",
              "[7110 rows x 7 columns]"
            ],
            "text/html": [
              "\n",
              "  <div id=\"df-b8c2d01b-bbca-42e2-8924-a848894033b6\" class=\"colab-df-container\">\n",
              "    <div>\n",
              "<style scoped>\n",
              "    .dataframe tbody tr th:only-of-type {\n",
              "        vertical-align: middle;\n",
              "    }\n",
              "\n",
              "    .dataframe tbody tr th {\n",
              "        vertical-align: top;\n",
              "    }\n",
              "\n",
              "    .dataframe thead th {\n",
              "        text-align: right;\n",
              "    }\n",
              "</style>\n",
              "<table border=\"1\" class=\"dataframe\">\n",
              "  <thead>\n",
              "    <tr style=\"text-align: right;\">\n",
              "      <th></th>\n",
              "      <th>Open</th>\n",
              "      <th>High</th>\n",
              "      <th>Low</th>\n",
              "      <th>Close</th>\n",
              "      <th>Volume</th>\n",
              "      <th>Dividends</th>\n",
              "      <th>Stock Splits</th>\n",
              "    </tr>\n",
              "    <tr>\n",
              "      <th>Date</th>\n",
              "      <th></th>\n",
              "      <th></th>\n",
              "      <th></th>\n",
              "      <th></th>\n",
              "      <th></th>\n",
              "      <th></th>\n",
              "      <th></th>\n",
              "    </tr>\n",
              "  </thead>\n",
              "  <tbody>\n",
              "    <tr>\n",
              "      <th>1996-01-01 00:00:00+05:30</th>\n",
              "      <td>0.908191</td>\n",
              "      <td>0.908191</td>\n",
              "      <td>0.908191</td>\n",
              "      <td>0.908191</td>\n",
              "      <td>19999</td>\n",
              "      <td>0.0</td>\n",
              "      <td>0.0</td>\n",
              "    </tr>\n",
              "    <tr>\n",
              "      <th>1996-01-02 00:00:00+05:30</th>\n",
              "      <td>0.837554</td>\n",
              "      <td>0.837554</td>\n",
              "      <td>0.837554</td>\n",
              "      <td>0.837554</td>\n",
              "      <td>39999</td>\n",
              "      <td>0.0</td>\n",
              "      <td>0.0</td>\n",
              "    </tr>\n",
              "    <tr>\n",
              "      <th>1996-01-03 00:00:00+05:30</th>\n",
              "      <td>0.867827</td>\n",
              "      <td>0.867827</td>\n",
              "      <td>0.867827</td>\n",
              "      <td>0.867827</td>\n",
              "      <td>19999</td>\n",
              "      <td>0.0</td>\n",
              "      <td>0.0</td>\n",
              "    </tr>\n",
              "    <tr>\n",
              "      <th>1996-01-04 00:00:00+05:30</th>\n",
              "      <td>0.867827</td>\n",
              "      <td>0.867827</td>\n",
              "      <td>0.867827</td>\n",
              "      <td>0.867827</td>\n",
              "      <td>119999</td>\n",
              "      <td>0.0</td>\n",
              "      <td>0.0</td>\n",
              "    </tr>\n",
              "    <tr>\n",
              "      <th>1996-01-05 00:00:00+05:30</th>\n",
              "      <td>0.867827</td>\n",
              "      <td>0.867827</td>\n",
              "      <td>0.867827</td>\n",
              "      <td>0.867827</td>\n",
              "      <td>0</td>\n",
              "      <td>0.0</td>\n",
              "      <td>0.0</td>\n",
              "    </tr>\n",
              "    <tr>\n",
              "      <th>...</th>\n",
              "      <td>...</td>\n",
              "      <td>...</td>\n",
              "      <td>...</td>\n",
              "      <td>...</td>\n",
              "      <td>...</td>\n",
              "      <td>...</td>\n",
              "      <td>...</td>\n",
              "    </tr>\n",
              "    <tr>\n",
              "      <th>2024-04-10 00:00:00+05:30</th>\n",
              "      <td>477.500000</td>\n",
              "      <td>479.450012</td>\n",
              "      <td>473.100006</td>\n",
              "      <td>477.299988</td>\n",
              "      <td>5385767</td>\n",
              "      <td>0.0</td>\n",
              "      <td>0.0</td>\n",
              "    </tr>\n",
              "    <tr>\n",
              "      <th>2024-04-12 00:00:00+05:30</th>\n",
              "      <td>475.000000</td>\n",
              "      <td>480.000000</td>\n",
              "      <td>470.000000</td>\n",
              "      <td>470.750000</td>\n",
              "      <td>6585023</td>\n",
              "      <td>0.0</td>\n",
              "      <td>0.0</td>\n",
              "    </tr>\n",
              "    <tr>\n",
              "      <th>2024-04-15 00:00:00+05:30</th>\n",
              "      <td>466.450012</td>\n",
              "      <td>468.350006</td>\n",
              "      <td>458.200012</td>\n",
              "      <td>459.350006</td>\n",
              "      <td>6088236</td>\n",
              "      <td>0.0</td>\n",
              "      <td>0.0</td>\n",
              "    </tr>\n",
              "    <tr>\n",
              "      <th>2024-04-16 00:00:00+05:30</th>\n",
              "      <td>453.049988</td>\n",
              "      <td>458.500000</td>\n",
              "      <td>444.799988</td>\n",
              "      <td>448.350006</td>\n",
              "      <td>10719712</td>\n",
              "      <td>0.0</td>\n",
              "      <td>0.0</td>\n",
              "    </tr>\n",
              "    <tr>\n",
              "      <th>2024-04-18 00:00:00+05:30</th>\n",
              "      <td>452.500000</td>\n",
              "      <td>452.600006</td>\n",
              "      <td>446.750000</td>\n",
              "      <td>450.200012</td>\n",
              "      <td>4663783</td>\n",
              "      <td>0.0</td>\n",
              "      <td>0.0</td>\n",
              "    </tr>\n",
              "  </tbody>\n",
              "</table>\n",
              "<p>7110 rows × 7 columns</p>\n",
              "</div>\n",
              "    <div class=\"colab-df-buttons\">\n",
              "\n",
              "  <div class=\"colab-df-container\">\n",
              "    <button class=\"colab-df-convert\" onclick=\"convertToInteractive('df-b8c2d01b-bbca-42e2-8924-a848894033b6')\"\n",
              "            title=\"Convert this dataframe to an interactive table.\"\n",
              "            style=\"display:none;\">\n",
              "\n",
              "  <svg xmlns=\"http://www.w3.org/2000/svg\" height=\"24px\" viewBox=\"0 -960 960 960\">\n",
              "    <path d=\"M120-120v-720h720v720H120Zm60-500h600v-160H180v160Zm220 220h160v-160H400v160Zm0 220h160v-160H400v160ZM180-400h160v-160H180v160Zm440 0h160v-160H620v160ZM180-180h160v-160H180v160Zm440 0h160v-160H620v160Z\"/>\n",
              "  </svg>\n",
              "    </button>\n",
              "\n",
              "  <style>\n",
              "    .colab-df-container {\n",
              "      display:flex;\n",
              "      gap: 12px;\n",
              "    }\n",
              "\n",
              "    .colab-df-convert {\n",
              "      background-color: #E8F0FE;\n",
              "      border: none;\n",
              "      border-radius: 50%;\n",
              "      cursor: pointer;\n",
              "      display: none;\n",
              "      fill: #1967D2;\n",
              "      height: 32px;\n",
              "      padding: 0 0 0 0;\n",
              "      width: 32px;\n",
              "    }\n",
              "\n",
              "    .colab-df-convert:hover {\n",
              "      background-color: #E2EBFA;\n",
              "      box-shadow: 0px 1px 2px rgba(60, 64, 67, 0.3), 0px 1px 3px 1px rgba(60, 64, 67, 0.15);\n",
              "      fill: #174EA6;\n",
              "    }\n",
              "\n",
              "    .colab-df-buttons div {\n",
              "      margin-bottom: 4px;\n",
              "    }\n",
              "\n",
              "    [theme=dark] .colab-df-convert {\n",
              "      background-color: #3B4455;\n",
              "      fill: #D2E3FC;\n",
              "    }\n",
              "\n",
              "    [theme=dark] .colab-df-convert:hover {\n",
              "      background-color: #434B5C;\n",
              "      box-shadow: 0px 1px 3px 1px rgba(0, 0, 0, 0.15);\n",
              "      filter: drop-shadow(0px 1px 2px rgba(0, 0, 0, 0.3));\n",
              "      fill: #FFFFFF;\n",
              "    }\n",
              "  </style>\n",
              "\n",
              "    <script>\n",
              "      const buttonEl =\n",
              "        document.querySelector('#df-b8c2d01b-bbca-42e2-8924-a848894033b6 button.colab-df-convert');\n",
              "      buttonEl.style.display =\n",
              "        google.colab.kernel.accessAllowed ? 'block' : 'none';\n",
              "\n",
              "      async function convertToInteractive(key) {\n",
              "        const element = document.querySelector('#df-b8c2d01b-bbca-42e2-8924-a848894033b6');\n",
              "        const dataTable =\n",
              "          await google.colab.kernel.invokeFunction('convertToInteractive',\n",
              "                                                    [key], {});\n",
              "        if (!dataTable) return;\n",
              "\n",
              "        const docLinkHtml = 'Like what you see? Visit the ' +\n",
              "          '<a target=\"_blank\" href=https://colab.research.google.com/notebooks/data_table.ipynb>data table notebook</a>'\n",
              "          + ' to learn more about interactive tables.';\n",
              "        element.innerHTML = '';\n",
              "        dataTable['output_type'] = 'display_data';\n",
              "        await google.colab.output.renderOutput(dataTable, element);\n",
              "        const docLink = document.createElement('div');\n",
              "        docLink.innerHTML = docLinkHtml;\n",
              "        element.appendChild(docLink);\n",
              "      }\n",
              "    </script>\n",
              "  </div>\n",
              "\n",
              "\n",
              "<div id=\"df-8bc5abaf-13e9-470f-a802-5e0752fd5b3f\">\n",
              "  <button class=\"colab-df-quickchart\" onclick=\"quickchart('df-8bc5abaf-13e9-470f-a802-5e0752fd5b3f')\"\n",
              "            title=\"Suggest charts\"\n",
              "            style=\"display:none;\">\n",
              "\n",
              "<svg xmlns=\"http://www.w3.org/2000/svg\" height=\"24px\"viewBox=\"0 0 24 24\"\n",
              "     width=\"24px\">\n",
              "    <g>\n",
              "        <path d=\"M19 3H5c-1.1 0-2 .9-2 2v14c0 1.1.9 2 2 2h14c1.1 0 2-.9 2-2V5c0-1.1-.9-2-2-2zM9 17H7v-7h2v7zm4 0h-2V7h2v10zm4 0h-2v-4h2v4z\"/>\n",
              "    </g>\n",
              "</svg>\n",
              "  </button>\n",
              "\n",
              "<style>\n",
              "  .colab-df-quickchart {\n",
              "      --bg-color: #E8F0FE;\n",
              "      --fill-color: #1967D2;\n",
              "      --hover-bg-color: #E2EBFA;\n",
              "      --hover-fill-color: #174EA6;\n",
              "      --disabled-fill-color: #AAA;\n",
              "      --disabled-bg-color: #DDD;\n",
              "  }\n",
              "\n",
              "  [theme=dark] .colab-df-quickchart {\n",
              "      --bg-color: #3B4455;\n",
              "      --fill-color: #D2E3FC;\n",
              "      --hover-bg-color: #434B5C;\n",
              "      --hover-fill-color: #FFFFFF;\n",
              "      --disabled-bg-color: #3B4455;\n",
              "      --disabled-fill-color: #666;\n",
              "  }\n",
              "\n",
              "  .colab-df-quickchart {\n",
              "    background-color: var(--bg-color);\n",
              "    border: none;\n",
              "    border-radius: 50%;\n",
              "    cursor: pointer;\n",
              "    display: none;\n",
              "    fill: var(--fill-color);\n",
              "    height: 32px;\n",
              "    padding: 0;\n",
              "    width: 32px;\n",
              "  }\n",
              "\n",
              "  .colab-df-quickchart:hover {\n",
              "    background-color: var(--hover-bg-color);\n",
              "    box-shadow: 0 1px 2px rgba(60, 64, 67, 0.3), 0 1px 3px 1px rgba(60, 64, 67, 0.15);\n",
              "    fill: var(--button-hover-fill-color);\n",
              "  }\n",
              "\n",
              "  .colab-df-quickchart-complete:disabled,\n",
              "  .colab-df-quickchart-complete:disabled:hover {\n",
              "    background-color: var(--disabled-bg-color);\n",
              "    fill: var(--disabled-fill-color);\n",
              "    box-shadow: none;\n",
              "  }\n",
              "\n",
              "  .colab-df-spinner {\n",
              "    border: 2px solid var(--fill-color);\n",
              "    border-color: transparent;\n",
              "    border-bottom-color: var(--fill-color);\n",
              "    animation:\n",
              "      spin 1s steps(1) infinite;\n",
              "  }\n",
              "\n",
              "  @keyframes spin {\n",
              "    0% {\n",
              "      border-color: transparent;\n",
              "      border-bottom-color: var(--fill-color);\n",
              "      border-left-color: var(--fill-color);\n",
              "    }\n",
              "    20% {\n",
              "      border-color: transparent;\n",
              "      border-left-color: var(--fill-color);\n",
              "      border-top-color: var(--fill-color);\n",
              "    }\n",
              "    30% {\n",
              "      border-color: transparent;\n",
              "      border-left-color: var(--fill-color);\n",
              "      border-top-color: var(--fill-color);\n",
              "      border-right-color: var(--fill-color);\n",
              "    }\n",
              "    40% {\n",
              "      border-color: transparent;\n",
              "      border-right-color: var(--fill-color);\n",
              "      border-top-color: var(--fill-color);\n",
              "    }\n",
              "    60% {\n",
              "      border-color: transparent;\n",
              "      border-right-color: var(--fill-color);\n",
              "    }\n",
              "    80% {\n",
              "      border-color: transparent;\n",
              "      border-right-color: var(--fill-color);\n",
              "      border-bottom-color: var(--fill-color);\n",
              "    }\n",
              "    90% {\n",
              "      border-color: transparent;\n",
              "      border-bottom-color: var(--fill-color);\n",
              "    }\n",
              "  }\n",
              "</style>\n",
              "\n",
              "  <script>\n",
              "    async function quickchart(key) {\n",
              "      const quickchartButtonEl =\n",
              "        document.querySelector('#' + key + ' button');\n",
              "      quickchartButtonEl.disabled = true;  // To prevent multiple clicks.\n",
              "      quickchartButtonEl.classList.add('colab-df-spinner');\n",
              "      try {\n",
              "        const charts = await google.colab.kernel.invokeFunction(\n",
              "            'suggestCharts', [key], {});\n",
              "      } catch (error) {\n",
              "        console.error('Error during call to suggestCharts:', error);\n",
              "      }\n",
              "      quickchartButtonEl.classList.remove('colab-df-spinner');\n",
              "      quickchartButtonEl.classList.add('colab-df-quickchart-complete');\n",
              "    }\n",
              "    (() => {\n",
              "      let quickchartButtonEl =\n",
              "        document.querySelector('#df-8bc5abaf-13e9-470f-a802-5e0752fd5b3f button');\n",
              "      quickchartButtonEl.style.display =\n",
              "        google.colab.kernel.accessAllowed ? 'block' : 'none';\n",
              "    })();\n",
              "  </script>\n",
              "</div>\n",
              "    </div>\n",
              "  </div>\n"
            ],
            "application/vnd.google.colaboratory.intrinsic+json": {
              "type": "dataframe",
              "variable_name": "df",
              "summary": "{\n  \"name\": \"df\",\n  \"rows\": 7110,\n  \"fields\": [\n    {\n      \"column\": \"Date\",\n      \"properties\": {\n        \"dtype\": \"date\",\n        \"min\": \"1996-01-01 00:00:00+05:30\",\n        \"max\": \"2024-04-18 00:00:00+05:30\",\n        \"num_unique_values\": 7110,\n        \"samples\": [\n          \"2008-10-27 00:00:00+05:30\",\n          \"2015-11-06 00:00:00+05:30\",\n          \"2005-12-12 00:00:00+05:30\"\n        ],\n        \"semantic_type\": \"\",\n        \"description\": \"\"\n      }\n    },\n    {\n      \"column\": \"Open\",\n      \"properties\": {\n        \"dtype\": \"number\",\n        \"std\": 141.24747993976553,\n        \"min\": 0.622525691986084,\n        \"max\": 712.3401504061904,\n        \"num_unique_values\": 6941,\n        \"samples\": [\n          163.91598442382735,\n          393.6604498842134,\n          414.1666988721216\n        ],\n        \"semantic_type\": \"\",\n        \"description\": \"\"\n      }\n    },\n    {\n      \"column\": \"High\",\n      \"properties\": {\n        \"dtype\": \"number\",\n        \"std\": 142.53723368664086,\n        \"min\": 0.622525691986084,\n        \"max\": 729.1937857533233,\n        \"num_unique_values\": 6913,\n        \"samples\": [\n          94.53056403397126,\n          50.08773050272375,\n          163.72052217343042\n        ],\n        \"semantic_type\": \"\",\n        \"description\": \"\"\n      }\n    },\n    {\n      \"column\": \"Low\",\n      \"properties\": {\n        \"dtype\": \"number\",\n        \"std\": 139.69987058493808,\n        \"min\": 0.5981924628589385,\n        \"max\": 705.6874478617356,\n        \"num_unique_values\": 6907,\n        \"samples\": [\n          101.29846754005723,\n          73.63660758001717,\n          145.54609565600228\n        ],\n        \"semantic_type\": \"\",\n        \"description\": \"\"\n      }\n    },\n    {\n      \"column\": \"Close\",\n      \"properties\": {\n        \"dtype\": \"number\",\n        \"std\": 141.02697718556522,\n        \"min\": 0.622525691986084,\n        \"max\": 711.108154296875,\n        \"num_unique_values\": 6521,\n        \"samples\": [\n          169.60858154296875,\n          281.0480651855469,\n          403.7921447753906\n        ],\n        \"semantic_type\": \"\",\n        \"description\": \"\"\n      }\n    },\n    {\n      \"column\": \"Volume\",\n      \"properties\": {\n        \"dtype\": \"number\",\n        \"std\": 8251566,\n        \"min\": 0,\n        \"max\": 130367588,\n        \"num_unique_values\": 6486,\n        \"samples\": [\n          2696305,\n          1017778,\n          3354727\n        ],\n        \"semantic_type\": \"\",\n        \"description\": \"\"\n      }\n    },\n    {\n      \"column\": \"Dividends\",\n      \"properties\": {\n        \"dtype\": \"number\",\n        \"std\": 0.09763808843428759,\n        \"min\": 0.0,\n        \"max\": 5.0,\n        \"num_unique_values\": 19,\n        \"samples\": [\n          0.0,\n          1.0875,\n          1.349998\n        ],\n        \"semantic_type\": \"\",\n        \"description\": \"\"\n      }\n    },\n    {\n      \"column\": \"Stock Splits\",\n      \"properties\": {\n        \"dtype\": \"number\",\n        \"std\": 0.08836520748484174,\n        \"min\": 0.0,\n        \"max\": 5.0,\n        \"num_unique_values\": 6,\n        \"samples\": [\n          0.0,\n          3.0,\n          1.3333333333333333\n        ],\n        \"semantic_type\": \"\",\n        \"description\": \"\"\n      }\n    }\n  ]\n}"
            }
          },
          "metadata": {},
          "execution_count": 90
        }
      ]
    },
    {
      "cell_type": "code",
      "source": [
        "stock_data = df.drop(columns=['Dividends', 'Stock Splits'])"
      ],
      "metadata": {
        "id": "Jq5kzlYQs2Kc"
      },
      "execution_count": null,
      "outputs": []
    },
    {
      "cell_type": "code",
      "source": [
        "stock_data['Next_Close'] = stock_data['Close'].shift(-1)"
      ],
      "metadata": {
        "id": "tVmO-GGmvSzg"
      },
      "execution_count": null,
      "outputs": []
    },
    {
      "cell_type": "code",
      "source": [
        "stock_data.info()"
      ],
      "metadata": {
        "colab": {
          "base_uri": "https://localhost:8080/"
        },
        "id": "giTc417CtLS4",
        "outputId": "2f2ec979-12c3-4cb9-9d46-921ab1aa0dc2"
      },
      "execution_count": null,
      "outputs": [
        {
          "output_type": "stream",
          "name": "stdout",
          "text": [
            "<class 'pandas.core.frame.DataFrame'>\n",
            "DatetimeIndex: 7110 entries, 1996-01-01 00:00:00+05:30 to 2024-04-18 00:00:00+05:30\n",
            "Data columns (total 6 columns):\n",
            " #   Column      Non-Null Count  Dtype  \n",
            "---  ------      --------------  -----  \n",
            " 0   Open        7110 non-null   float64\n",
            " 1   High        7110 non-null   float64\n",
            " 2   Low         7110 non-null   float64\n",
            " 3   Close       7110 non-null   float64\n",
            " 4   Volume      7110 non-null   int64  \n",
            " 5   Next_Close  7109 non-null   float64\n",
            "dtypes: float64(5), int64(1)\n",
            "memory usage: 388.8 KB\n"
          ]
        }
      ]
    },
    {
      "cell_type": "code",
      "source": [
        "spark_df = spark.createDataFrame(stock_data.reset_index())\n"
      ],
      "metadata": {
        "id": "Ulf2-f4etKma"
      },
      "execution_count": null,
      "outputs": []
    },
    {
      "cell_type": "code",
      "source": [
        "spark_df.show()"
      ],
      "metadata": {
        "colab": {
          "base_uri": "https://localhost:8080/"
        },
        "id": "gXGGSnAhpkl8",
        "outputId": "7caf158b-f2b2-4115-d04b-e2602e1f5be9"
      },
      "execution_count": null,
      "outputs": [
        {
          "output_type": "stream",
          "name": "stdout",
          "text": [
            "+-------------------+------------------+------------------+------------------+------------------+------+------------------+\n",
            "|               Date|              Open|              High|               Low|             Close|Volume|        Next_Close|\n",
            "+-------------------+------------------+------------------+------------------+------------------+------+------------------+\n",
            "|1995-12-31 18:30:00|0.9081907272338867|0.9081907272338867|0.9081907272338867|0.9081907272338867| 19999|0.8375536203384399|\n",
            "|1996-01-01 18:30:00|0.8375536203384399|0.8375536203384399|0.8375536203384399|0.8375536203384399| 39999|0.8678267598152161|\n",
            "|1996-01-02 18:30:00|0.8678267598152162|0.8678267598152162|0.8678267598152162|0.8678267598152161| 19999|0.8678267598152161|\n",
            "|1996-01-03 18:30:00|0.8678267598152162|0.8678267598152162|0.8678267598152162|0.8678267598152161|119999|0.8678267598152161|\n",
            "|1996-01-04 18:30:00|0.8678267598152162|0.8678267598152162|0.8678267598152162|0.8678267598152161|     0|0.8678267598152161|\n",
            "|1996-01-07 18:30:00|0.8678267598152162|0.8678267598152162|0.8678267598152162|0.8678267598152161|     0|0.8678267598152161|\n",
            "|1996-01-08 18:30:00|0.8738813109558898|0.8738813109558898|0.8678267598152162|0.8678267598152161| 39999|0.8690374493598938|\n",
            "|1996-01-09 18:30:00|0.8678265202190106|0.8690374493598938|0.8678265202190106|0.8690374493598938| 59999|0.8678267598152161|\n",
            "|1996-01-10 18:30:00|0.8690376892904219|0.8779177104614573|0.8597539608040811|0.8678267598152161| 79999|0.8678267598152161|\n",
            "|1996-01-11 18:30:00|0.8678267598152162|0.8678267598152162|0.8678267598152162|0.8678267598152161| 19999|0.8678267598152161|\n",
            "|1996-01-14 18:30:00|0.8678267598152162|0.8678267598152162|0.8678267598152162|0.8678267598152161|     0| 0.847644567489624|\n",
            "|1996-01-15 18:30:00| 0.847644567489624| 0.847644567489624| 0.847644567489624| 0.847644567489624| 19999| 0.847644567489624|\n",
            "|1996-01-16 18:30:00| 0.847644567489624| 0.847644567489624| 0.847644567489624| 0.847644567489624|     0|0.8637902140617371|\n",
            "|1996-01-17 18:30:00| 0.847644522537731|0.8637902140617371|0.8637902140617371|0.8637902140617371| 19999| 0.847644567489624|\n",
            "|1996-01-18 18:30:00|0.8516809665258472|0.8516809665258472| 0.847644567489624| 0.847644567489624| 39999|0.8637902140617371|\n",
            "|1996-01-21 18:30:00|0.8315998781196373|0.8637902140617371|0.8315998781196373|0.8637902140617371| 99999| 0.847644567489624|\n",
            "|1996-01-22 18:30:00|0.8637902598698609| 0.847644567489624| 0.847644567489624| 0.847644567489624| 79999| 0.847644567489624|\n",
            "|1996-01-23 18:30:00|0.8456264160891845| 0.847644567489624|0.8456264160891845| 0.847644567489624| 39999| 0.847644567489624|\n",
            "|1996-01-24 18:30:00|0.8466355399070763|0.8486536913075159|0.8375536180167381| 0.847644567489624|619999| 0.847644567489624|\n",
            "|1996-01-25 18:30:00| 0.847644567489624| 0.847644567489624| 0.847644567489624| 0.847644567489624|     0| 0.847644567489624|\n",
            "+-------------------+------------------+------------------+------------------+------------------+------+------------------+\n",
            "only showing top 20 rows\n",
            "\n"
          ]
        }
      ]
    },
    {
      "cell_type": "code",
      "source": [
        "spark_df.dropna()"
      ],
      "metadata": {
        "colab": {
          "base_uri": "https://localhost:8080/"
        },
        "id": "5AN9ma4TwgUm",
        "outputId": "8d05c32b-5b7e-4375-c21f-04e8e4dc9db0"
      },
      "execution_count": null,
      "outputs": [
        {
          "output_type": "execute_result",
          "data": {
            "text/plain": [
              "DataFrame[Date: timestamp, Open: double, High: double, Low: double, Close: double, Volume: bigint, Next_Close: double]"
            ]
          },
          "metadata": {},
          "execution_count": 96
        }
      ]
    },
    {
      "cell_type": "code",
      "source": [
        "from pyspark.sql.functions import mean, stddev, col, lag, avg, when, sum, abs"
      ],
      "metadata": {
        "id": "fa1G8s9WlEKs"
      },
      "execution_count": null,
      "outputs": []
    },
    {
      "cell_type": "code",
      "source": [
        "def calculate_features(data):\n",
        "   # Calculate moving averages\n",
        "    windowSpec20 = Window.orderBy('Date').rowsBetween(-19, 0)\n",
        "    windowSpec50 = Window.orderBy('Date').rowsBetween(-49, 0)\n",
        "    windowSpec200 = Window.orderBy('Date').rowsBetween(-199, 0)\n",
        "\n",
        "    data = data.withColumn('20d_moving_avg', mean(col('Close')).over(windowSpec20))\n",
        "    data = data.withColumn('50d_moving_avg', mean(col('Close')).over(windowSpec50))\n",
        "    data = data.withColumn('200d_moving_avg', mean(col('Close')).over(windowSpec200))\n",
        "\n",
        "    # Calculate daily returns\n",
        "    data = data.withColumn('daily_return', (col('Close') - lag('Close', 1).over(Window.orderBy('Date'))) / lag('Close', 1).over(Window.orderBy('Date')))\n",
        "\n",
        "    # Calculate volatility\n",
        "    windowSpecVolatility = Window.orderBy('Date').rowsBetween(-19, 0)\n",
        "    data = data.withColumn('volatility', stddev(col('daily_return')).over(windowSpecVolatility))\n",
        "\n",
        "    # Calculate change, gain, loss\n",
        "    data = data.withColumn('change', col('Close') - lag('Close', 1).over(Window.orderBy('Date')))\n",
        "    data = data.withColumn('gain', when(col('change') > 0, col('change')).otherwise(0))\n",
        "    data = data.withColumn('loss', when(col('change') < 0, -col('change')).otherwise(0))\n",
        "\n",
        "    # Additional features\n",
        "    data = data.withColumn('ema_10', avg(col('Close')).over(Window.orderBy('Date').rowsBetween(-9, 0)))\n",
        "    data = data.withColumn('ema_20', avg(col('Close')).over(Window.orderBy('Date').rowsBetween(-19, 0)))\n",
        "    data = data.withColumn('macd', col('ema_10') - col('ema_20'))\n",
        "    data = data.withColumn('rsi', 100 - (100 / (1 + (avg(when(col('daily_return') > 0, col('daily_return'))).over(Window.orderBy('Date').rowsBetween(-13, 0)) /\n",
        "                                                avg(when(col('daily_return') < 0, -col('daily_return'))).over(Window.orderBy('Date').rowsBetween(-13, 0))))))\n",
        "  # Bollinger Bands\n",
        "    data = data.withColumn('stddev_20', stddev(col('Close')).over(windowSpec20))\n",
        "    data = data.withColumn('bollinger_upper', col('20d_moving_avg') + 2 * col('stddev_20'))\n",
        "    data = data.withColumn('bollinger_lower', col('20d_moving_avg') - 2 * col('stddev_20'))\n",
        "\n",
        "    # Average True Range (ATR)\n",
        "    data = data.withColumn('tr', when(col('High') - col('Low') > abs(col('High') - lag('Close', 1).over(Window.orderBy('Date'))), col('High') - col('Low')).otherwise(when(abs(col('High') - lag('Close', 1).over(Window.orderBy('Date'))) > abs(col('Low') - lag('Close', 1).over(Window.orderBy('Date'))), abs(col('High') - lag('Close', 1).over(Window.orderBy('Date')))).otherwise(abs(col('Low') - lag('Close', 1).over(Window.orderBy('Date'))))))\n",
        "    data = data.withColumn('atr', avg(col('tr')).over(windowSpec20))\n",
        "\n",
        "    # Moving Average Convergence Divergence Signal (MACD Signal)\n",
        "    data = data.withColumn('macd_signal', avg(col('macd')).over(Window.orderBy('Date').rowsBetween(-8, 0)))\n",
        "\n",
        "\n",
        "\n",
        "    return data.dropna()\n"
      ],
      "metadata": {
        "id": "fF2Xg5SyuLoh"
      },
      "execution_count": null,
      "outputs": []
    },
    {
      "cell_type": "code",
      "source": [
        "# Calculate features\n",
        "spark_df = calculate_features(spark_df)"
      ],
      "metadata": {
        "id": "7qIV6mqSz4F9"
      },
      "execution_count": null,
      "outputs": []
    },
    {
      "cell_type": "code",
      "source": [
        "spark_df.show()"
      ],
      "metadata": {
        "colab": {
          "base_uri": "https://localhost:8080/"
        },
        "id": "fLY6Emr3xMnn",
        "outputId": "1af24073-dabb-4669-d302-b472b905d124"
      },
      "execution_count": null,
      "outputs": [
        {
          "output_type": "stream",
          "name": "stdout",
          "text": [
            "+-------------------+------------------+------------------+------------------+------------------+------+------------------+------------------+------------------+------------------+--------------------+--------------------+--------------------+--------------------+--------------------+------------------+------------------+--------------------+------------------+--------------------+------------------+------------------+--------------------+--------------------+--------------------+\n",
            "|               Date|              Open|              High|               Low|             Close|Volume|        Next_Close|    20d_moving_avg|    50d_moving_avg|   200d_moving_avg|        daily_return|          volatility|              change|                gain|                loss|            ema_10|            ema_20|                macd|               rsi|           stddev_20|   bollinger_upper|   bollinger_lower|                  tr|                 atr|         macd_signal|\n",
            "+-------------------+------------------+------------------+------------------+------------------+------+------------------+------------------+------------------+------------------+--------------------+--------------------+--------------------+--------------------+--------------------+------------------+------------------+--------------------+------------------+--------------------+------------------+------------------+--------------------+--------------------+--------------------+\n",
            "|1996-01-02 18:30:00|0.8678267598152162|0.8678267598152162|0.8678267598152162|0.8678267598152161| 19999|0.8678267598152161|0.8711903691291809|0.8711903691291809|0.8711903691291809| 0.03614471807135561| 0.08055540853316231|0.030273139476776123|0.030273139476776123|                 0.0|0.8711903691291809|0.8711903691291809|                 0.0|31.727447874353388|0.035438476524145855|0.9420673221774726|0.8003134160808892|0.030273139476776234|0.050455123186111506|                 0.0|\n",
            "|1996-01-03 18:30:00|0.8678267598152162|0.8678267598152162|0.8678267598152162|0.8678267598152161|119999|0.8678267598152161|0.8703494668006897|0.8703494668006897|0.8703494668006897|                 0.0| 0.05821537550258149|                 0.0|                 0.0|                 0.0|0.8703494668006897|0.8703494668006897|                 0.0|31.727447874353388|0.028984229260166163| 0.928317925321022|0.8123810082803574|1.110223024625156...| 0.03363674879074104|                 0.0|\n",
            "|1996-01-04 18:30:00|0.8678267598152162|0.8678267598152162|0.8678267598152162|0.8678267598152161|     0|0.8678267598152161|0.8698449254035949|0.8698449254035949|0.8698449254035949|                 0.0| 0.04803645460393372|                 0.0|                 0.0|                 0.0|0.8698449254035949|0.8698449254035949|                 0.0|31.727447874353388|0.025126419750161697|0.9200977649039184|0.8195920859032715|1.110223024625156...| 0.02522756159305581|                 0.0|\n",
            "|1996-01-07 18:30:00|0.8678267598152162|0.8678267598152162|0.8678267598152162|0.8678267598152161|     0|0.8678267598152161|0.8695085644721985|0.8695085644721985|0.8695085644721985|                 0.0| 0.04186038917194837|                 0.0|                 0.0|                 0.0|0.8695085644721985|0.8695085644721985|                 0.0|31.727447874353388|  0.0224888507404463|0.9144862659530911|0.8245308629913058|1.110223024625156...| 0.02018204927444467|                 0.0|\n",
            "|1996-01-08 18:30:00|0.8738813109558898|0.8738813109558898|0.8678267598152162|0.8678267598152161| 39999|0.8690374493598938|0.8692683066640582|0.8692683066640582|0.8692683066640582|                 0.0| 0.03759506865449664|                 0.0|                 0.0|                 0.0|0.8692683066640582|0.8692683066640582|                 0.0|31.727447874353388| 0.02053925687690932|0.9103468204178768|0.8281897929102395|0.006054551140673...| 0.01782746625214952|                 0.0|\n",
            "|1996-01-09 18:30:00|0.8678265202190106|0.8690374493598938|0.8678265202190106|0.8690374493598938| 59999|0.8678267598152161|0.8692394495010376|0.8692394495010376|0.8692394495010376|0.001395082061004345| 0.03446369668405991|0.001210689544677...|0.001210689544677...|                 0.0|0.8692394495010376|0.8692394495010376|                 0.0|19.441057217444154|0.019015832018692915|0.9072711135384234|0.8312077854636518|0.001210929140883...|0.015453675236254325|                 0.0|\n",
            "|1996-01-10 18:30:00|0.8690376892904219|0.8779177104614573|0.8597539608040811|0.8678267598152161| 79999|0.8678267598152161|0.8690824839803908|0.8690824839803908|0.8690824839803908|-0.00139313851844...| 0.03194431486307246|-0.00121068954467...|                 0.0|0.001210689544677...|0.8690824839803908|0.8690824839803908|                 0.0| 32.16481181424264|0.017793914058317824|0.9046703120970264|0.8334946558637552|0.018163749657376216|0.015792434538894562|                 0.0|\n",
            "|1996-01-11 18:30:00|0.8678267598152162|0.8678267598152162|0.8678267598152162|0.8678267598152161| 19999|0.8678267598152161|0.8689569115638733|0.8689569115638733|0.8689569115638733|                 0.0| 0.02993147664676511|                 0.0|                 0.0|                 0.0|0.8689569115638733|0.8689569115638733|                 0.0| 32.16481181424264|0.016780962027049543|0.9025188356179724|0.8353949875097743|1.110223024625156...|0.014037719590128513|                 0.0|\n",
            "|1996-01-14 18:30:00|0.8678267598152162|0.8678267598152162|0.8678267598152162|0.8678267598152161|     0| 0.847644567489624|0.8688541704958136|0.8688541704958136|0.8688541704958136|                 0.0|0.028257552826507857|                 0.0|                 0.0|                 0.0|0.8649205148220063|0.8688541704958136|-0.00393365567380...| 32.16481181424264| 0.01592346478928746|0.9007011000743885|0.8370072409172387|1.110223024625156...|0.012633947631115671|-4.37072852645258...|\n",
            "|1996-01-15 18:30:00| 0.847644567489624| 0.847644567489624| 0.847644567489624| 0.847644567489624| 19999| 0.847644567489624| 0.867086703578631| 0.867086703578631| 0.867086703578631|-0.02325601520963...|0.027418611370325287|-0.02018219232559204|                 0.0| 0.02018219232559204|0.8659296095371246| 0.867086703578631|-0.00115709404150...| 35.47365213314903| 0.01637050367692101| 0.899827710932473| 0.834345696224789| 0.02018219232559204|0.013320151694249887|-5.65638857257084...|\n",
            "|1996-01-16 18:30:00| 0.847644567489624| 0.847644567489624| 0.847644567489624| 0.847644567489624|     0|0.8637902140617371|0.8655911546487075|0.8655911546487075|0.8655911546487075|                 0.0| 0.02619802050646306|                 0.0|                 0.0|                 0.0|0.8639113903045654|0.8655911546487075|-0.00167976434414...| 35.47365213314903| 0.01657520056911594|0.8987415557869394|0.8324407535104756|                 0.0|0.012210139053062397|-7.52279339939537...|\n",
            "|1996-01-17 18:30:00| 0.847644522537731|0.8637902140617371|0.8637902140617371|0.8637902140617371| 19999| 0.847644567489624|0.8654625160353524|0.8654625160353524|0.8654625160353524|  0.0190476612384007| 0.02598355115279955|0.016145646572113037|0.016145646572113037|                 0.0|0.8635077357292176|0.8654625160353524|-0.00195478030613...| 35.58636462069026|0.015932209763617977|0.8973269355625884|0.8335980965081164|0.016145646572113037|0.012512870400681676|-9.69477151732295...|\n",
            "|1996-01-18 18:30:00|0.8516809665258472|0.8516809665258472| 0.847644567489624| 0.847644567489624| 39999|0.8637902140617371|0.8642746527989705|0.8642746527989705|0.8642746527989705|-0.01869162941334164| 0.02529108062332492|-0.01614564657211...|                 0.0|0.016145646572113037|0.8614895164966583|0.8642746527989705|-0.00278513630231...|38.383527171734606|0.016027148859107842|0.8963289505171862|0.8322203550807549|0.016145646572113037|0.012772354412926774|-0.00127893674087...|\n",
            "|1996-01-21 18:30:00|0.8315998781196373|0.8637902140617371|0.8315998781196373|0.8637902140617371| 99999| 0.847644567489624|0.8642443753778934|0.8642443753778934|0.8642443753778934|  0.0190476612384007|0.025124900247850624|0.016145646572113037|0.016145646572113037|                 0.0|0.8610858619213104|0.8642443753778934|-0.00315851345658...| 56.68828988656138|0.015484170456873097|0.8952127162916397|0.8332760344641472|0.032190335942099746|0.014066886514871639|-0.00162988268049...|\n",
            "|1996-01-22 18:30:00|0.8637902598698609| 0.847644567489624| 0.847644567489624| 0.847644567489624| 79999| 0.847644567489624|0.8632679160903481|0.8632679160903481|0.8632679160903481|-0.01869162941334164|0.024586634891765158|-0.01614564657211...|                 0.0|0.016145646572113037|0.8590676426887512|0.8632679160903481|-0.00420027340159...| 45.91121997915274|0.015523646491735623|0.8943152090738193|0.8322206231068769|0.016145646572113037|0.014196809018449226|-0.00209657972512...|\n",
            "|1996-01-23 18:30:00|0.8456264160891845| 0.847644567489624|0.8456264160891845| 0.847644567489624| 39999| 0.847644567489624|0.8623999522791969|0.8623999522791969|0.8623999522791969|                 0.0|0.023825774615799163|                 0.0|                 0.0|                 0.0|0.8569283545017242|0.8623999522791969|-0.00547159777747...| 45.91121997915274|0.015503825195380072| 0.893407602669957|0.8313923018884367|0.002018151400439483|0.013480417393860418|-0.00270453503372...|\n",
            "|1996-01-24 18:30:00|0.8466355399070763|0.8486536913075159|0.8375536180167381| 0.847644567489624|619999| 0.847644567489624|0.8616233530797457|0.8616233530797457|0.8616233530797457|                 0.0| 0.02313151600020189|                 0.0|                 0.0|                 0.0| 0.854910135269165|0.8616233530797457|-0.00671321781058...| 45.91121997915274|0.015442597088329183| 0.892508547256404|0.8307381589030873|0.011100073290777779|0.013348176054800272|-0.00345044812379...|\n",
            "|1996-01-25 18:30:00| 0.847644567489624| 0.847644567489624| 0.847644567489624| 0.847644567489624|     0| 0.847644567489624|0.8609244138002395|0.8609244138002395|0.8609244138002395|                 0.0| 0.02249466824849126|                 0.0|                 0.0|                 0.0|0.8528919160366059|0.8609244138002395|-0.00803249776363...| 45.91121997915274|0.015352292150531887|0.8916289981013034|0.8302198294991757|                 0.0|0.012645640472968678|-0.00390587502266...|\n",
            "|1996-01-28 18:30:00|0.8375536180167381|0.8486536913075159|0.8375536180167381| 0.847644567489624|439999| 0.840681791305542|0.8578971058130265|0.8602920401664007|0.8602920401664007|                 0.0|0.021907724917188544|                 0.0|                 0.0|                 0.0|0.8508736968040467|0.8578971058130265|-0.00702340900897...| 45.91121997915274|0.010850958411871794|  0.87959902263677|0.8361951889892829|0.011100073290777779|0.012568362113859134|-0.00455768779682...|\n",
            "|1996-01-29 18:30:00|0.8476445142468226|0.8475436596125748|0.8073814772895457| 0.840681791305542|119999| 0.840681791305542|0.8580535143613816|0.8594006652181799|0.8594006652181799|-0.00821426391571...|0.013261684338570483|-0.00696277618408...|                 0.0|0.006962776184082031|0.8501774191856384|0.8580535143613816|-0.00787609517574317|57.551026479693135|0.010560958514921996|0.8791754313912256|0.8369315973315375| 0.04016218232302915|0.011044615885238251|-0.00524616900033...|\n",
            "+-------------------+------------------+------------------+------------------+------------------+------+------------------+------------------+------------------+------------------+--------------------+--------------------+--------------------+--------------------+--------------------+------------------+------------------+--------------------+------------------+--------------------+------------------+------------------+--------------------+--------------------+--------------------+\n",
            "only showing top 20 rows\n",
            "\n"
          ]
        }
      ]
    },
    {
      "cell_type": "code",
      "source": [
        "spark_df.orderBy('Date', ascending=False).show(20)\n"
      ],
      "metadata": {
        "colab": {
          "base_uri": "https://localhost:8080/"
        },
        "id": "2tCVvQKmyPO-",
        "outputId": "316da2f9-625a-486b-e56d-fd2eca9596ac"
      },
      "execution_count": null,
      "outputs": [
        {
          "output_type": "stream",
          "name": "stdout",
          "text": [
            "+-------------------+------------------+------------------+------------------+------------------+--------+------------------+------------------+------------------+------------------+--------------------+--------------------+-------------------+-----------------+------------------+------------------+------------------+-------------------+------------------+------------------+-----------------+------------------+------------------+------------------+-------------------+\n",
            "|               Date|              Open|              High|               Low|             Close|  Volume|        Next_Close|    20d_moving_avg|    50d_moving_avg|   200d_moving_avg|        daily_return|          volatility|             change|             gain|              loss|            ema_10|            ema_20|               macd|               rsi|         stddev_20|  bollinger_upper|   bollinger_lower|                tr|               atr|        macd_signal|\n",
            "+-------------------+------------------+------------------+------------------+------------------+--------+------------------+------------------+------------------+------------------+--------------------+--------------------+-------------------+-----------------+------------------+------------------+------------------+-------------------+------------------+------------------+-----------------+------------------+------------------+------------------+-------------------+\n",
            "|2024-04-15 18:30:00|453.04998779296875|             458.5|444.79998779296875| 448.3500061035156|10719712|450.20001220703125| 483.4300018310547| 501.1020031738281|438.19618698120115|-0.02394688114474...|0.013677533323599106|              -11.0|              0.0|              11.0| 474.8299987792969| 483.4300018310547| -8.600003051757824|38.178195196149616|15.612988834492612|  514.65597950004|452.20402416206946| 13.70001220703125|10.320001220703125|-11.180834621853288|\n",
            "|2024-04-14 18:30:00|466.45001220703125| 468.3500061035156|458.20001220703125| 459.3500061035156| 6088236| 448.3500061035156|486.91000213623045| 501.6980029296875| 437.8778349304199|-0.02421666255227...|0.015035098756818395|-11.399993896484375|              0.0|11.399993896484375|478.48999938964846|486.91000213623045| -8.420002746581986|37.666595831962624|15.131632882643293|517.1732679015171|456.64673637094387|10.149993896484375|10.822502136230469|-11.679722764756933|\n",
            "|2024-04-11 18:30:00|             475.0|             480.0|             470.0|            470.75| 6585023| 459.3500061035156| 489.1625015258789| 501.9610028076172| 437.4895149230957|-0.01372300012672...|0.014449499225173478|  -6.54998779296875|              0.0|  6.54998779296875|480.56499938964845| 489.1625015258789| -8.597502136230446| 42.39320627537041| 14.13325924464383|517.4290200151665|460.89598303659125|              10.0|11.410003662109375|-12.008610873752168|\n",
            "|2024-04-09 18:30:00|             477.5|479.45001220703125| 473.1000061035156|477.29998779296875| 5385767|            470.75|491.16750183105466|502.00600280761716| 437.0324697875977|0.003152585200680...|0.014290626971873846|                1.5|              1.5|               0.0| 480.7199981689453|491.16750183105466|-10.447503662109341|  45.1786249217853| 14.22776832472575|519.6230384805061|462.71196518160315| 6.350006103515625|11.647503662109376|-12.133054606119792|\n",
            "|2024-04-08 18:30:00|483.95001220703125|            485.25|475.20001220703125|475.79998779296875| 7900625|477.29998779296875| 493.0300018310547| 501.8600030517578|436.54841247558596|-0.00854345937833...|0.014208836674891038| -4.100006103515625|              0.0| 4.100006103515625|           480.975| 493.0300018310547|-12.055001831054653| 44.17158029957193|14.745584562491057|522.5211709560368| 463.5388327060726| 10.04998779296875|11.662504577636719|-12.067220560709636|\n",
            "|2024-04-07 18:30:00|             490.0| 491.6000061035156|478.20001220703125| 479.8999938964844|13320385|475.79998779296875|495.01500244140624|501.90500305175783|436.11002395629885|-0.01061744980124...|0.014286054840738067| -5.149993896484375|              0.0| 5.149993896484375|482.10500183105466|495.01500244140624|-12.910000610351574| 43.25783442729392|14.974427153966879|  524.96385674934| 465.0661481334725|13.399993896484375|11.655006408691406|-11.731108940972225|\n",
            "|2024-04-04 18:30:00|             486.5| 487.1499938964844|482.54998779296875|485.04998779296875| 3207172| 479.8999938964844|496.67750396728513| 501.6850030517578|435.68855560302734|-0.00482151442951...|0.014191932419048287| -2.350006103515625|              0.0| 2.350006103515625| 484.1600036621094|496.67750396728513|-12.517500305175759|45.032973790242835|15.053541662948524|526.7845872931822|466.57042064138807| 4.600006103515625|11.727505493164063|-11.227219984266489|\n",
            "|2024-04-03 18:30:00|485.79998779296875|491.95001220703125| 479.6000061035156| 487.3999938964844| 8002023|485.04998779296875|498.09000396728516|501.66435791015624| 435.2368467712402|0.008692014866203286|0.014403285827770541|  4.199981689453125|4.199981689453125|               0.0| 485.0050048828125|498.09000396728516|-13.084999084472656| 48.72477681512332|15.229434669183364|528.5488733056519| 467.6311346289184|12.350006103515625|11.990005493164062|-10.695553249782986|\n",
            "|2024-04-02 18:30:00|             480.0|487.70001220703125|475.95001220703125|483.20001220703125| 6897258| 487.3999938964844|499.74500427246096| 501.5488153076172|434.77363739013674|0.004156275871288883|0.014204193412005552|                2.0|              2.0|               0.0| 485.7500061035156|499.74500427246096|-13.994998168945358| 50.71535083572806|15.794617692821408|531.3342396581038| 468.1557688868181|             11.75|11.765007019042969|-10.076108805338542|\n",
            "|2024-04-01 18:30:00|481.95001220703125|482.70001220703125| 479.6000061035156|481.20001220703125| 3466327|483.20001220703125| 501.5400024414063|501.51228271484376| 434.3399098205566|-0.00773275575957...|0.014131610755253219|              -3.75|              0.0|              3.75|488.45000610351565| 501.5400024414063|-13.089996337890625| 56.01292690409322|15.855211324514803|533.2504250904359|469.82957979237665| 3.100006103515625|11.560008239746093| -9.349164666069877|\n",
            "|2024-03-31 18:30:00|483.70001220703125| 486.3999938964844|481.54998779296875|484.95001220703125| 3020504|481.20001220703125| 503.4100006103516| 501.5676397705078| 433.9274082946777|0.010102074654983242|0.014145941019753808|  4.850006103515625|4.850006103515625|               0.0| 492.0300048828125| 503.4100006103516|-11.379995727539097|57.128746671141364|15.532235435201205| 534.474471480754|472.34552973994914|  6.29998779296875| 11.95750732421875| -8.666109720865892|\n",
            "|2024-03-27 18:30:00|476.70001220703125|483.04998779296875|475.29998779296875| 480.1000061035156| 7727575|484.95001220703125|505.04750061035156| 501.7395880126953|433.51237213134766|0.016514966148942586| 0.01464819478415987|  7.800018310546875|7.800018310546875|               0.0| 495.3300048828125|505.04750061035156| -9.717495727539074| 55.02876057298183|15.206580205290015|535.4606610209316|474.63434019977154|             10.75|12.440008544921875| -8.256388515896269|\n",
            "|2024-03-26 18:30:00|479.70001220703125|480.95001220703125|            471.25|472.29998779296875| 7160334| 480.1000061035156|507.61500091552733|   501.42677734375| 433.1073664855957|-0.01573412152654...|0.013768662212695654| -7.550018310546875|              0.0| 7.550018310546875| 497.7600036621094|507.61500091552733| -9.854997253417935| 56.78324373203899|15.107397158800714|537.8297952331287| 477.4002065979259|  9.70001220703125|12.395010375976563|  -8.02194535997178|\n",
            "|2024-03-25 18:30:00|             486.0|490.95001220703125|479.04998779296875| 479.8500061035156| 9136673|472.29998779296875|  510.645002746582|500.92570129394534|432.76256561279297|-0.01488400720417...|0.013574576790345749|              -7.25|              0.0|              7.25|501.61500549316406|  510.645002746582| -9.029997253417946| 57.15287015945048|13.659389615923063|537.9637819784282| 483.3262235147359|  11.9000244140625|12.432510375976562| -7.755835300021697|\n",
            "|2024-03-21 18:30:00|            489.25|            490.75|479.54998779296875| 487.1000061035156|14323251| 479.8500061035156| 513.4600036621093| 500.3813946533203| 432.3837567138672|-0.02667600315292401|0.013781068989963147|-13.350006103515625|              0.0|13.350006103515625| 505.0850036621094| 513.4600036621093| -8.374999999999943| 52.23034665828394|12.750003669423467|538.9600110009562| 487.9599963232624| 11.20001220703125|   12.347509765625|-7.3208362155490425|\n",
            "|2024-03-20 18:30:00| 499.6499938964844|505.29998779296875|498.45001220703125|500.45001220703125| 5822290| 487.1000061035156|  515.657502746582| 499.6352093505859| 431.9796743774414|0.014083104776152482|0.013608407256925054|   6.95001220703125| 6.95001220703125|               0.0| 507.9250030517578|  515.657502746582|-7.7324996948242415| 51.43830979781573|11.712942242946896|539.0833872324758|492.23161826068826| 11.79998779296875|12.367507934570312| -6.661392211914069|\n",
            "|2024-03-19 18:30:00|496.04998779296875|            501.25|489.20001220703125|             493.5| 4192672|500.45001220703125| 516.7050033569336| 498.6140411376953| 431.4913792419434|-0.00272811172449...|0.013617151529310322| -1.350006103515625|              0.0| 1.350006103515625|509.19500427246095| 516.7050033569336| -7.509999084472668| 44.23988358000464|11.207213231154679| 539.119429819243| 494.2905768946243| 12.04998779296875|12.617507934570312| -5.699447970920151|\n",
            "|2024-03-18 18:30:00|             509.0|             509.0| 493.1499938964844| 494.8500061035156| 4808693|             493.5| 518.6275039672852| 497.8566070556641| 431.0320964050293|-0.03008625193306901|0.013641314231130266|-15.350006103515625|              0.0|15.350006103515625| 511.1750030517578| 518.6275039672852|-7.4525009155273665|  38.3229480127799|10.276311241396531|539.1801264500782| 498.0748814844921|15.850006103515625|   12.610009765625| -4.441392856174048|\n",
            "|2024-03-17 18:30:00|             518.0| 518.5499877929688|             509.0|510.20001220703125| 3196980| 494.8500061035156|  520.682504272461| 496.9883514404297|430.55259216308593|-0.01315278103088...|0.012391718068580623|  -6.79998779296875|              0.0|  6.79998779296875| 513.7400024414062|  520.682504272461| -6.942501831054756|45.521621787986874| 9.337779077320569|539.3580624271021|502.00694611781984|  9.54998779296875|12.545011901855469|-2.9983374701605876|\n",
            "|2024-03-14 18:30:00|            514.75|            518.25| 506.3999938964844|             517.0| 6824543|510.20001220703125| 522.3225036621094|495.88294677734376|430.00581787109377|-0.00183417740060...|0.016482528164348115|  -0.95001220703125|              0.0|  0.95001220703125| 514.6299987792969| 522.3225036621094|   -7.6925048828125| 47.85074693885335| 10.23688958600757|542.7962828341246|501.84872449009424|11.850006103515625| 13.39251251220703|  -1.32889285617403|\n",
            "+-------------------+------------------+------------------+------------------+------------------+--------+------------------+------------------+------------------+------------------+--------------------+--------------------+-------------------+-----------------+------------------+------------------+------------------+-------------------+------------------+------------------+-----------------+------------------+------------------+------------------+-------------------+\n",
            "only showing top 20 rows\n",
            "\n"
          ]
        }
      ]
    },
    {
      "cell_type": "code",
      "source": [
        "# # Train-test split (for demonstration purposes, actual implementation may vary)\n",
        "train_data, test_data = spark_df.randomSplit([0.8, 0.2], seed=123)\n",
        "\n",
        "\n"
      ],
      "metadata": {
        "id": "fPR_9aJU0kgA"
      },
      "execution_count": null,
      "outputs": []
    },
    {
      "cell_type": "code",
      "source": [
        "#del model"
      ],
      "metadata": {
        "id": "bknUVUqr_Dhg"
      },
      "execution_count": null,
      "outputs": []
    },
    {
      "cell_type": "code",
      "source": [
        "from pyspark.ml.regression import GBTRegressor\n",
        "from pyspark.ml import Pipeline, PipelineModel\n",
        "from pyspark.ml.feature import VectorAssembler"
      ],
      "metadata": {
        "id": "PT-6h7uLDAeu"
      },
      "execution_count": null,
      "outputs": []
    },
    {
      "cell_type": "code",
      "source": [
        "from pyspark.ml.tuning import CrossValidator, ParamGridBuilder\n",
        "\n",
        "def train_model(data):\n",
        "    assembler = VectorAssembler(\n",
        "        inputCols=['Open', 'High', 'Low', 'Close', 'Volume',\n",
        "                   '20d_moving_avg', '50d_moving_avg', '200d_moving_avg',\n",
        "                   'daily_return', 'volatility', 'change', 'gain', 'loss', 'ema_10', 'ema_20', 'macd', 'rsi', 'tr', 'atr', 'macd_signal'\n",
        "                  ],\n",
        "        outputCol='features')\n",
        "\n",
        "    data = assembler.transform(data)\n",
        "\n",
        "    gbt = GBTRegressor(featuresCol='features', labelCol='Next_Close', predictionCol='prediction')\n",
        "\n",
        "    # Create a pipeline\n",
        "    pipeline = Pipeline(stages=[gbt])\n",
        "\n",
        "    #  Train the pipeline\n",
        "    model = pipeline.fit(data)\n",
        "    model.save(\"Wipro\")\n",
        "    # Run cross-validation, and choose the best set of parameters\n",
        "    # model = rf.fit(data)\n",
        "\n",
        "\n",
        "    return model\n",
        "\n",
        "\n",
        "\n"
      ],
      "metadata": {
        "id": "2REsaMGK1F34"
      },
      "execution_count": null,
      "outputs": []
    },
    {
      "cell_type": "code",
      "source": [
        "# Train model\n",
        "model = train_model(train_data)"
      ],
      "metadata": {
        "id": "sAAW_17v2Eeo"
      },
      "execution_count": null,
      "outputs": []
    },
    {
      "cell_type": "code",
      "source": [
        "# from pyspark.ml import PipelineModel\n",
        "\n",
        "# # Load the model\n",
        "# model = PipelineModel.load(\"/content/Tatamotors\")"
      ],
      "metadata": {
        "id": "I_Y87T3MehL1"
      },
      "execution_count": null,
      "outputs": []
    },
    {
      "cell_type": "code",
      "source": [
        "from pyspark.ml.evaluation import RegressionEvaluator\n",
        "\n",
        "def evaluate_model(model, data):\n",
        "    assembler = VectorAssembler(\n",
        "        inputCols=['Open', 'High', 'Low', 'Close', 'Volume',\n",
        "                   '20d_moving_avg', '50d_moving_avg', '200d_moving_avg',\n",
        "                   'daily_return', 'volatility', 'change', 'gain', 'loss', 'ema_10', 'ema_20', 'macd', 'rsi', 'tr', 'atr', 'macd_signal'\n",
        "                  ],\n",
        "        outputCol='features')\n",
        "\n",
        "    data = assembler.transform(data)\n",
        "\n",
        "    predictions = model.transform(data)\n",
        "\n",
        "    # Calculate RMSE\n",
        "    evaluator = RegressionEvaluator(labelCol='Next_Close', predictionCol='prediction', metricName='rmse')\n",
        "    rmse = evaluator.evaluate(predictions)\n",
        "\n",
        "    print(\"Root Mean Squared Error (RMSE) on Test Data:\", rmse)\n",
        "    return predictions\n",
        "\n"
      ],
      "metadata": {
        "id": "8T9-6w6n1F7O"
      },
      "execution_count": null,
      "outputs": []
    },
    {
      "cell_type": "code",
      "source": [
        "# Call evaluate_model function in your main script\n",
        "predictions = evaluate_model(model, test_data)"
      ],
      "metadata": {
        "colab": {
          "base_uri": "https://localhost:8080/"
        },
        "id": "fm59u8fU1GDy",
        "outputId": "81162f6c-fbb9-43f0-fa2d-eae8c894a0fb"
      },
      "execution_count": null,
      "outputs": [
        {
          "output_type": "stream",
          "name": "stdout",
          "text": [
            "Root Mean Squared Error (RMSE) on Test Data: 8.098913951364166\n"
          ]
        }
      ]
    },
    {
      "cell_type": "code",
      "source": [
        "\n",
        "import matplotlib.pyplot as plt\n",
        "\n",
        "def plot_predictions(predictions):\n",
        "    actual_close = predictions.select('Next_Close').collect()\n",
        "    predicted_close = predictions.select('prediction').collect()\n",
        "\n",
        "    actual_close_values = [row.Next_Close for row in actual_close]\n",
        "    predicted_close_values = [row.prediction for row in predicted_close]\n",
        "\n",
        "    plt.figure(figsize=(10, 5))\n",
        "    plt.plot(actual_close_values, label='Actual Close', color='blue')\n",
        "    plt.plot(predicted_close_values, label='Predicted Close', color='red')\n",
        "    plt.xlabel('Index')\n",
        "    plt.ylabel('Close Value')\n",
        "    plt.title('Actual vs Predicted Close Values')\n",
        "    plt.legend()\n",
        "    plt.show()\n",
        "\n",
        "# Call plot_predictions function in your main script\n",
        "plot_predictions(predictions)\n"
      ],
      "metadata": {
        "colab": {
          "base_uri": "https://localhost:8080/",
          "height": 487
        },
        "id": "UCs5XIR21GG5",
        "outputId": "33b72b8f-199e-411e-c360-7464cb262648"
      },
      "execution_count": null,
      "outputs": [
        {
          "output_type": "display_data",
          "data": {
            "text/plain": [
              "<Figure size 1000x500 with 1 Axes>"
            ],
            "image/png": "[encoded data removed]"
          },
          "metadata": {}
        }
      ]
    },
    {
      "cell_type": "code",
      "source": [],
      "metadata": {
        "id": "qrEQSK0P3aSw"
      },
      "execution_count": null,
      "outputs": []
    },
    {
      "cell_type": "code",
      "source": [
        "# # end date data is excluded\n",
        "# current_stock_data = yf.download(COMPANY_CODE, start='2023-01-01', end='2023-01-06')\n",
        "# stock_data"
      ],
      "metadata": {
        "id": "aChfJqE11GJl"
      },
      "execution_count": null,
      "outputs": []
    },
    {
      "cell_type": "code",
      "source": [
        "import datetime\n",
        "import yfinance as yf\n",
        "\n",
        "# Calculate the start and end dates\n",
        "end_date = datetime.datetime.now() - datetime.timedelta(days=1)  # Yesterday\n",
        "start_date = end_date - datetime.timedelta(days=200)  # Last 200 days from yesterday\n",
        "\n",
        "print(end_date)\n",
        "print(start_date)\n",
        "# Convert dates to string format\n",
        "end_date_str = end_date.strftime('%Y-%m-%d')\n",
        "start_date_str = start_date.strftime('%Y-%m-%d')\n",
        "\n",
        "# Download data using Yahoo Finance API\n",
        "current_stock_data = yf.download(COMPANY_CODE, start=start_date_str, end=end_date_str)\n",
        "# current_stock_data = stock_df(symbol='TATAMOTORS',\n",
        "#                                 from_date=start_date,\n",
        "#                                 to_date=end_date,\n",
        "#                                 series=\"EQ\")\n",
        "\n",
        "current_stock_data.rename(columns=lambda x: x.title(), inplace=True)"
      ],
      "metadata": {
        "colab": {
          "base_uri": "https://localhost:8080/"
        },
        "id": "EALfY0Ou1GMz",
        "outputId": "382789e9-af2b-4725-c96e-0d6cc0781c85"
      },
      "execution_count": null,
      "outputs": [
        {
          "output_type": "stream",
          "name": "stdout",
          "text": [
            "2024-04-17 06:26:55.006333\n",
            "2023-09-30 06:26:55.006333\n"
          ]
        },
        {
          "output_type": "stream",
          "name": "stderr",
          "text": [
            "\r[*********************100%%**********************]  1 of 1 completed\n"
          ]
        }
      ]
    },
    {
      "cell_type": "code",
      "source": [
        "# Display the downloaded data\n",
        "print(current_stock_data['Close'])"
      ],
      "metadata": {
        "colab": {
          "base_uri": "https://localhost:8080/"
        },
        "id": "V-RCSNFC34p2",
        "outputId": "8dcb3e6d-ac6e-43d8-a00d-c1b128788018"
      },
      "execution_count": null,
      "outputs": [
        {
          "output_type": "stream",
          "name": "stdout",
          "text": [
            "Date\n",
            "2023-10-03    405.450012\n",
            "2023-10-04    404.899994\n",
            "2023-10-05    406.799988\n",
            "2023-10-06    407.850006\n",
            "2023-10-09    405.600006\n",
            "                 ...    \n",
            "2024-04-09    475.799988\n",
            "2024-04-10    477.299988\n",
            "2024-04-12    470.750000\n",
            "2024-04-15    459.350006\n",
            "2024-04-16    448.350006\n",
            "Name: Close, Length: 131, dtype: float64\n"
          ]
        }
      ]
    },
    {
      "cell_type": "code",
      "source": [
        "from pyspark.sql.functions import mean, stddev, col, lag, when\n",
        "from pyspark.sql import Window\n",
        "\n",
        "def calculate_features_for_last_record(data):\n",
        "    # Calculate moving averages\n",
        "    windowSpec20 = Window.orderBy('Date').rowsBetween(-19, 0)\n",
        "    windowSpec50 = Window.orderBy('Date').rowsBetween(-49, 0)\n",
        "    windowSpec200 = Window.orderBy('Date').rowsBetween(-199, 0)\n",
        "\n",
        "    data = data.withColumn('20d_moving_avg', mean(col('Close')).over(windowSpec20))\n",
        "    data = data.withColumn('50d_moving_avg', mean(col('Close')).over(windowSpec50))\n",
        "    data = data.withColumn('200d_moving_avg', mean(col('Close')).over(windowSpec200))\n",
        "\n",
        "    # Calculate daily returns\n",
        "    data = data.withColumn('daily_return', (col('Close') - lag('Close', 1).over(Window.orderBy('Date'))) / lag('Close', 1).over(Window.orderBy('Date')))\n",
        "\n",
        "    # Calculate volatility\n",
        "    windowSpecVolatility = Window.orderBy('Date').rowsBetween(-19, 0)\n",
        "    data = data.withColumn('volatility', stddev(col('daily_return')).over(windowSpecVolatility))\n",
        "\n",
        "    # Calculate change, gain, loss\n",
        "    data = data.withColumn('change', col('Close') - lag('Close', 1).over(Window.orderBy('Date')))\n",
        "    data = data.withColumn('gain', when(col('change') > 0, col('change')).otherwise(0))\n",
        "    data = data.withColumn('loss', when(col('change') < 0, -col('change')).otherwise(0))\n",
        "\n",
        "     # Additional features\n",
        "    data = data.withColumn('ema_10', avg(col('Close')).over(Window.orderBy('Date').rowsBetween(-9, 0)))\n",
        "    data = data.withColumn('ema_20', avg(col('Close')).over(Window.orderBy('Date').rowsBetween(-19, 0)))\n",
        "    data = data.withColumn('macd', col('ema_10') - col('ema_20'))\n",
        "    data = data.withColumn('rsi', 100 - (100 / (1 + (avg(when(col('daily_return') > 0, col('daily_return'))).over(Window.orderBy('Date').rowsBetween(-13, 0)) /\n",
        "                                                avg(when(col('daily_return') < 0, -col('daily_return'))).over(Window.orderBy('Date').rowsBetween(-13, 0))))))\n",
        "  # Bollinger Bands\n",
        "    data = data.withColumn('stddev_20', stddev(col('Close')).over(windowSpec20))\n",
        "    data = data.withColumn('bollinger_upper', col('20d_moving_avg') + 2 * col('stddev_20'))\n",
        "    data = data.withColumn('bollinger_lower', col('20d_moving_avg') - 2 * col('stddev_20'))\n",
        "\n",
        "    # Average True Range (ATR)\n",
        "    data = data.withColumn('tr', when(col('High') - col('Low') > abs(col('High') - lag('Close', 1).over(Window.orderBy('Date'))), col('High') - col('Low')).otherwise(when(abs(col('High') - lag('Close', 1).over(Window.orderBy('Date'))) > abs(col('Low') - lag('Close', 1).over(Window.orderBy('Date'))), abs(col('High') - lag('Close', 1).over(Window.orderBy('Date')))).otherwise(abs(col('Low') - lag('Close', 1).over(Window.orderBy('Date'))))))\n",
        "    data = data.withColumn('atr', avg(col('tr')).over(windowSpec20))\n",
        "\n",
        "    # Moving Average Convergence Divergence Signal (MACD Signal)\n",
        "    data = data.withColumn('macd_signal', avg(col('macd')).over(Window.orderBy('Date').rowsBetween(-8, 0)))\n",
        "\n",
        "\n",
        "\n",
        "    # Select the last record and dropna\n",
        "    last_record = data.orderBy(col(\"Date\").desc()).limit(1).dropna()\n",
        "\n",
        "    return last_record\n",
        "\n",
        "\n"
      ],
      "metadata": {
        "id": "KX4UiSGG1GQD"
      },
      "execution_count": null,
      "outputs": []
    },
    {
      "cell_type": "code",
      "source": [
        "current_stock_data = spark.createDataFrame(current_stock_data.reset_index())"
      ],
      "metadata": {
        "id": "YAJciaRS5OQF"
      },
      "execution_count": null,
      "outputs": []
    },
    {
      "cell_type": "code",
      "source": [
        "# Assuming 'current_stock_data' is your DataFrame containing the stock data\n",
        "# Replace 'current_stock_data' with your actual DataFrame\n",
        "last_record_features = calculate_features_for_last_record(current_stock_data)\n",
        "\n",
        "# Show the calculated features for the last record\n",
        "last_record_features.show()"
      ],
      "metadata": {
        "colab": {
          "base_uri": "https://localhost:8080/"
        },
        "id": "j2e4S-OB2n-9",
        "outputId": "9377df47-c0bf-41cf-86dd-17817e65ee01"
      },
      "execution_count": null,
      "outputs": [
        {
          "output_type": "stream",
          "name": "stdout",
          "text": [
            "+-------------------+------------------+-----+------------------+-----------------+-----------------+--------+-----------------+-----------------+------------------+--------------------+--------------------+------+----+----+-----------------+-----------------+------------------+------------------+------------------+---------------+------------------+-----------------+------------------+-------------------+\n",
            "|               Date|              Open| High|               Low|            Close|        Adj Close|  Volume|   20d_moving_avg|   50d_moving_avg|   200d_moving_avg|        daily_return|          volatility|change|gain|loss|           ema_10|           ema_20|              macd|               rsi|         stddev_20|bollinger_upper|   bollinger_lower|               tr|               atr|        macd_signal|\n",
            "+-------------------+------------------+-----+------------------+-----------------+-----------------+--------+-----------------+-----------------+------------------+--------------------+--------------------+------+----+----+-----------------+-----------------+------------------+------------------+------------------+---------------+------------------+-----------------+------------------+-------------------+\n",
            "|2024-04-16 00:00:00|453.04998779296875|458.5|444.79998779296875|448.3500061035156|448.3500061035156|10719712|483.4300018310547|501.1020031738281|453.86297840380485|-0.02394688114474...|0.013677533323599106| -11.0| 0.0|11.0|474.8299987792969|483.4300018310547|-8.600003051757824|38.178195196149616|15.612988834492612|514.65597950004|452.20402416206946|13.70001220703125|10.320001220703125|-11.180834621853288|\n",
            "+-------------------+------------------+-----+------------------+-----------------+-----------------+--------+-----------------+-----------------+------------------+--------------------+--------------------+------+----+----+-----------------+-----------------+------------------+------------------+------------------+---------------+------------------+-----------------+------------------+-------------------+\n",
            "\n"
          ]
        }
      ]
    },
    {
      "cell_type": "code",
      "source": [
        "from pyspark.ml.regression import RandomForestRegressionModel\n",
        "from pyspark.ml.feature import VectorAssembler\n",
        "from pyspark.sql import SparkSession\n",
        "\n",
        "# Assume 'spark' is your SparkSession\n",
        "\n",
        "def preprocess_input_data(input_data):\n",
        "    assembler = VectorAssembler(\n",
        "        inputCols=['Open', 'High', 'Low', 'Close', 'Volume',\n",
        "                   '20d_moving_avg', '50d_moving_avg', '200d_moving_avg',\n",
        "                   'daily_return', 'volatility', 'change', 'gain', 'loss', 'ema_10', 'ema_20', 'macd', 'rsi', 'tr', 'atr', 'macd_signal'],\n",
        "        outputCol='features')\n",
        "\n",
        "    preprocessed_data = assembler.transform(input_data)\n",
        "\n",
        "    return preprocessed_data\n",
        "\n",
        "def predict(model, input_data):\n",
        "    preprocessed_data = preprocess_input_data(input_data)\n",
        "\n",
        "    # Make predictions\n",
        "    predictions = model.transform(preprocessed_data)\n",
        "\n",
        "    # Return predictions\n",
        "    return predictions\n",
        "\n",
        "# Assuming 'model' is your trained RandomForestRegressor model\n",
        "# Assuming 'input_data' is the DataFrame containing user input data\n",
        "# Replace 'model' and 'input_data' with your actual trained model and input data\n",
        "input_data = [1012.25,1021.0,1010.0,1013.5, 4554077,986.8125030517579, 956.8400012207031,797.2522560062265,0.00495785820525533, 0.016751872131632543, 5.0, 5.0, 0.0 ]\n",
        "predictions = predict(model, last_record_features)\n",
        "\n",
        "# Show predictions\n",
        "predictions.show()\n"
      ],
      "metadata": {
        "colab": {
          "base_uri": "https://localhost:8080/"
        },
        "id": "nUltaIIQ2oCZ",
        "outputId": "6869c5ee-4fb5-42bf-8f6f-38c3536bfadc"
      },
      "execution_count": null,
      "outputs": [
        {
          "output_type": "stream",
          "name": "stdout",
          "text": [
            "+-------------------+------------------+-----+------------------+-----------------+-----------------+--------+-----------------+-----------------+------------------+--------------------+--------------------+------+----+----+-----------------+-----------------+------------------+------------------+------------------+---------------+------------------+-----------------+------------------+-------------------+--------------------+-----------------+\n",
            "|               Date|              Open| High|               Low|            Close|        Adj Close|  Volume|   20d_moving_avg|   50d_moving_avg|   200d_moving_avg|        daily_return|          volatility|change|gain|loss|           ema_10|           ema_20|              macd|               rsi|         stddev_20|bollinger_upper|   bollinger_lower|               tr|               atr|        macd_signal|            features|       prediction|\n",
            "+-------------------+------------------+-----+------------------+-----------------+-----------------+--------+-----------------+-----------------+------------------+--------------------+--------------------+------+----+----+-----------------+-----------------+------------------+------------------+------------------+---------------+------------------+-----------------+------------------+-------------------+--------------------+-----------------+\n",
            "|2024-04-16 00:00:00|453.04998779296875|458.5|444.79998779296875|448.3500061035156|448.3500061035156|10719712|483.4300018310547|501.1020031738281|453.86297840380485|-0.02394688114474...|0.013677533323599106| -11.0| 0.0|11.0|474.8299987792969|483.4300018310547|-8.600003051757824|38.178195196149616|15.612988834492612|514.65597950004|452.20402416206946|13.70001220703125|10.320001220703125|-11.180834621853288|[453.049987792968...|479.7681629569021|\n",
            "+-------------------+------------------+-----+------------------+-----------------+-----------------+--------+-----------------+-----------------+------------------+--------------------+--------------------+------+----+----+-----------------+-----------------+------------------+------------------+------------------+---------------+------------------+-----------------+------------------+-------------------+--------------------+-----------------+\n",
            "\n"
          ]
        }
      ]
    },
    {
      "cell_type": "code",
      "source": [
        "first_prediction = predictions.select(\"prediction\").first()[0]\n",
        "print(\"First prediction:\", first_prediction)"
      ],
      "metadata": {
        "colab": {
          "base_uri": "https://localhost:8080/"
        },
        "id": "gBhvGAaulUpR",
        "outputId": "6bf05eec-04cb-4844-acd6-8067d5628f93"
      },
      "execution_count": null,
      "outputs": [
        {
          "output_type": "stream",
          "name": "stdout",
          "text": [
            "First prediction: 479.7681629569021\n"
          ]
        }
      ]
    },
    {
      "cell_type": "code",
      "source": [
        "!zip -r /content/Wipro.zip /content/Wipro"
      ],
      "metadata": {
        "colab": {
          "base_uri": "https://localhost:8080/"
        },
        "id": "KZzUV9vainYv",
        "outputId": "6470e32a-6fe5-42b7-ec27-4f46a87f6228"
      },
      "execution_count": null,
      "outputs": [
        {
          "output_type": "stream",
          "name": "stdout",
          "text": [
            "  adding: content/Wipro/ (stored 0%)\n",
            "  adding: content/Wipro/stages/ (stored 0%)\n",
            "  adding: content/Wipro/stages/0_GBTRegressor_7a7b0e490f35/ (stored 0%)\n",
            "  adding: content/Wipro/stages/0_GBTRegressor_7a7b0e490f35/metadata/ (stored 0%)\n",
            "  adding: content/Wipro/stages/0_GBTRegressor_7a7b0e490f35/metadata/._SUCCESS.crc (stored 0%)\n",
            "  adding: content/Wipro/stages/0_GBTRegressor_7a7b0e490f35/metadata/_SUCCESS (stored 0%)\n",
            "  adding: content/Wipro/stages/0_GBTRegressor_7a7b0e490f35/metadata/part-00000 (deflated 42%)\n",
            "  adding: content/Wipro/stages/0_GBTRegressor_7a7b0e490f35/metadata/.part-00000.crc (stored 0%)\n",
            "  adding: content/Wipro/stages/0_GBTRegressor_7a7b0e490f35/data/ (stored 0%)\n",
            "  adding: content/Wipro/stages/0_GBTRegressor_7a7b0e490f35/data/._SUCCESS.crc (stored 0%)\n",
            "  adding: content/Wipro/stages/0_GBTRegressor_7a7b0e490f35/data/part-00000-acd3bd29-e313-40a7-88c6-8b0cd09d1678-c000.snappy.parquet (deflated 11%)\n",
            "  adding: content/Wipro/stages/0_GBTRegressor_7a7b0e490f35/data/_SUCCESS (stored 0%)\n",
            "  adding: content/Wipro/stages/0_GBTRegressor_7a7b0e490f35/data/.part-00000-acd3bd29-e313-40a7-88c6-8b0cd09d1678-c000.snappy.parquet.crc (stored 0%)\n",
            "  adding: content/Wipro/stages/0_GBTRegressor_7a7b0e490f35/treesMetadata/ (stored 0%)\n",
            "  adding: content/Wipro/stages/0_GBTRegressor_7a7b0e490f35/treesMetadata/part-00000-1e22478e-8180-46e6-90af-0379867e8813-c000.snappy.parquet (deflated 41%)\n",
            "  adding: content/Wipro/stages/0_GBTRegressor_7a7b0e490f35/treesMetadata/._SUCCESS.crc (stored 0%)\n",
            "  adding: content/Wipro/stages/0_GBTRegressor_7a7b0e490f35/treesMetadata/.part-00000-1e22478e-8180-46e6-90af-0379867e8813-c000.snappy.parquet.crc (stored 0%)\n",
            "  adding: content/Wipro/stages/0_GBTRegressor_7a7b0e490f35/treesMetadata/_SUCCESS (stored 0%)\n",
            "  adding: content/Wipro/metadata/ (stored 0%)\n",
            "  adding: content/Wipro/metadata/._SUCCESS.crc (stored 0%)\n",
            "  adding: content/Wipro/metadata/_SUCCESS (stored 0%)\n",
            "  adding: content/Wipro/metadata/part-00000 (deflated 20%)\n",
            "  adding: content/Wipro/metadata/.part-00000.crc (stored 0%)\n"
          ]
        }
      ]
    },
    {
      "cell_type": "code",
      "source": [
        "from google.colab import files\n",
        "files.download(\"/content/Wipro.zip\")\n"
      ],
      "metadata": {
        "id": "fjqMo8oN2oMU",
        "colab": {
          "base_uri": "https://localhost:8080/",
          "height": 17
        },
        "outputId": "bf8fec81-6464-40ce-8e80-fb2cd1f74056"
      },
      "execution_count": null,
      "outputs": [
        {
          "output_type": "display_data",
          "data": {
            "text/plain": [
              "<IPython.core.display.Javascript object>"
            ],
            "application/javascript": [
              "\n",
              "    async function download(id, filename, size) {\n",
              "      if (!google.colab.kernel.accessAllowed) {\n",
              "        return;\n",
              "      }\n",
              "      const div = document.createElement('div');\n",
              "      const label = document.createElement('label');\n",
              "      label.textContent = `Downloading \"${filename}\": `;\n",
              "      div.appendChild(label);\n",
              "      const progress = document.createElement('progress');\n",
              "      progress.max = size;\n",
              "      div.appendChild(progress);\n",
              "      document.body.appendChild(div);\n",
              "\n",
              "      const buffers = [];\n",
              "      let downloaded = 0;\n",
              "\n",
              "      const channel = await google.colab.kernel.comms.open(id);\n",
              "      // Send a message to notify the kernel that we're ready.\n",
              "      channel.send({})\n",
              "\n",
              "      for await (const message of channel.messages) {\n",
              "        // Send a message to notify the kernel that we're ready.\n",
              "        channel.send({})\n",
              "        if (message.buffers) {\n",
              "          for (const buffer of message.buffers) {\n",
              "            buffers.push(buffer);\n",
              "            downloaded += buffer.byteLength;\n",
              "            progress.value = downloaded;\n",
              "          }\n",
              "        }\n",
              "      }\n",
              "      const blob = new Blob(buffers, {type: 'application/binary'});\n",
              "      const a = document.createElement('a');\n",
              "      a.href = window.URL.createObjectURL(blob);\n",
              "      a.download = filename;\n",
              "      div.appendChild(a);\n",
              "      a.click();\n",
              "      div.remove();\n",
              "    }\n",
              "  "
            ]
          },
          "metadata": {}
        },
        {
          "output_type": "display_data",
          "data": {
            "text/plain": [
              "<IPython.core.display.Javascript object>"
            ],
            "application/javascript": [
              "download(\"download_ded4d4f9-95ea-41c4-8c06-296aa31c9218\", \"Wipro.zip\", 66541)"
            ]
          },
          "metadata": {}
        }
      ]
    },
    {
      "cell_type": "code",
      "source": [],
      "metadata": {
        "id": "lJCwqDOGy_Qt"
      },
      "execution_count": null,
      "outputs": []
    },
    {
      "cell_type": "code",
      "source": [],
      "metadata": {
        "id": "fMDPa21zy_0h"
      },
      "execution_count": null,
      "outputs": []
    },
    {
      "cell_type": "code",
      "source": [],
      "metadata": {
        "id": "1ujk1YHtzADA"
      },
      "execution_count": null,
      "outputs": []
    },
    {
      "cell_type": "code",
      "source": [],
      "metadata": {
        "id": "bo8qV1NczAP7"
      },
      "execution_count": null,
      "outputs": []
    },
    {
      "cell_type": "code",
      "source": [],
      "metadata": {
        "id": "5Tn1RV5-zAhG"
      },
      "execution_count": null,
      "outputs": []
    },
    {
      "cell_type": "code",
      "source": [
        "!pip install jugaad-data"
      ],
      "metadata": {
        "id": "xWXqRKq22oR_",
        "colab": {
          "base_uri": "https://localhost:8080/"
        },
        "outputId": "b287b784-da90-4f29-e289-7b624e74f47a"
      },
      "execution_count": null,
      "outputs": [
        {
          "output_type": "stream",
          "name": "stdout",
          "text": [
            "Requirement already satisfied: jugaad-data in /usr/local/lib/python3.10/dist-packages (0.26)\n",
            "Requirement already satisfied: requests in /usr/local/lib/python3.10/dist-packages (from jugaad-data) (2.31.0)\n",
            "Requirement already satisfied: click==7.1.2 in /usr/local/lib/python3.10/dist-packages (from jugaad-data) (7.1.2)\n",
            "Requirement already satisfied: appdirs==1.4.4 in /usr/local/lib/python3.10/dist-packages (from jugaad-data) (1.4.4)\n",
            "Requirement already satisfied: beautifulsoup4==4.9.3 in /usr/local/lib/python3.10/dist-packages (from jugaad-data) (4.9.3)\n",
            "Requirement already satisfied: soupsieve>1.2 in /usr/local/lib/python3.10/dist-packages (from beautifulsoup4==4.9.3->jugaad-data) (2.5)\n",
            "Requirement already satisfied: charset-normalizer<4,>=2 in /usr/local/lib/python3.10/dist-packages (from requests->jugaad-data) (3.3.2)\n",
            "Requirement already satisfied: idna<4,>=2.5 in /usr/local/lib/python3.10/dist-packages (from requests->jugaad-data) (3.6)\n",
            "Requirement already satisfied: urllib3<3,>=1.21.1 in /usr/local/lib/python3.10/dist-packages (from requests->jugaad-data) (2.0.7)\n",
            "Requirement already satisfied: certifi>=2017.4.17 in /usr/local/lib/python3.10/dist-packages (from requests->jugaad-data) (2024.2.2)\n"
          ]
        }
      ]
    },
    {
      "cell_type": "code",
      "source": [
        "from jugaad_data.nse import NSELive\n",
        "n = NSELive()\n",
        "tata_motors_price = n.stock_quote('TATAMOTORS')\n",
        "\n",
        "print(tata_motors_price)\n"
      ],
      "metadata": {
        "id": "33mrz5J-2oU9",
        "colab": {
          "base_uri": "https://localhost:8080/"
        },
        "outputId": "f7e03f41-6394-4801-9a36-7f4384b1214c"
      },
      "execution_count": null,
      "outputs": [
        {
          "output_type": "stream",
          "name": "stdout",
          "text": [
            "{'info': {'symbol': 'TATAMOTORS', 'companyName': 'Tata Motors Limited', 'industry': 'AUTOMOBILES - 4 WHEELERS', 'activeSeries': ['EQ'], 'debtSeries': [], 'isFNOSec': True, 'isCASec': False, 'isSLBSec': True, 'isDebtSec': False, 'isSuspended': False, 'tempSuspendedSeries': [], 'isETFSec': False, 'isDelisted': False, 'isin': 'INE155A01022', 'isMunicipalBond': False, 'isTop10': False, 'identifier': 'TATAMOTORSEQN'}, 'metadata': {'series': 'EQ', 'symbol': 'TATAMOTORS', 'isin': 'INE155A01022', 'status': 'Listed', 'listingDate': '22-Jul-1998', 'industry': 'Passenger Cars & Utility Vehicles', 'lastUpdateTime': '15-Apr-2024 16:00:00', 'pdSectorPe': 16.88, 'pdSymbolPe': 17.6, 'pdSectorInd': 'NIFTY AUTO                                        '}, 'securityInfo': {'boardStatus': 'Main', 'tradingStatus': 'Active', 'tradingSegment': 'Normal Market', 'sessionNo': '-', 'slb': 'Yes', 'classOfShare': 'Equity', 'derivatives': 'Yes', 'surveillance': {'surv': None, 'desc': None}, 'faceValue': 2, 'issuedSize': 3323739001}, 'sddDetails': {'SDDAuditor': '-', 'SDDStatus': '-'}, 'priceInfo': {'lastPrice': 997.95, 'change': -20.549999999999955, 'pChange': -2.017673048600879, 'previousClose': 1018.5, 'open': 998.1, 'close': 998.8, 'vwap': 996.59, 'lowerCP': '916.65', 'upperCP': '1120.35', 'pPriceBand': 'No Band', 'basePrice': 1018.5, 'intraDayHighLow': {'min': 978.5, 'max': 1006.95, 'value': 997.95}, 'weekHighLow': {'min': 463.25, 'minDate': '13-Apr-2023', 'max': 1065.6, 'maxDate': '05-Mar-2024', 'value': 997.95}, 'iNavValue': None, 'checkINAV': False}, 'industryInfo': {'macro': 'Consumer Discretionary', 'sector': 'Automobile and Auto Components', 'industry': 'Automobiles', 'basicIndustry': 'Passenger Cars & Utility Vehicles'}, 'preOpenMarket': {'preopen': [{'price': 916.65, 'buyQty': 0, 'sellQty': 659}, {'price': 918, 'buyQty': 0, 'sellQty': 15}, {'price': 920, 'buyQty': 0, 'sellQty': 10}, {'price': 934.1, 'buyQty': 0, 'sellQty': 12}, {'price': 998.1, 'buyQty': 0, 'sellQty': 0, 'iep': True}, {'price': 1076, 'buyQty': 1, 'sellQty': 0}, {'price': 1080, 'buyQty': 12, 'sellQty': 0}, {'price': 1086, 'buyQty': 2, 'sellQty': 0}, {'price': 1120.35, 'buyQty': 120, 'sellQty': 0}], 'ato': {'buy': 7105, 'sell': 68967}, 'IEP': 998.1, 'totalTradedVolume': 81541, 'finalPrice': 998.1, 'finalQuantity': 81541, 'lastUpdateTime': '15-Apr-2024 09:07:17', 'totalBuyQuantity': 88477, 'totalSellQuantity': 318114, 'atoBuyQty': 7105, 'atoSellQty': 68967, 'Change': -20.399999999999977, 'perChange': -2.002945508100145, 'prevClose': 1018.5}}\n"
          ]
        }
      ]
    },
    {
      "cell_type": "code",
      "source": [
        "from jugaad_data.nse import stock_df\n",
        "import datetime\n",
        "\n",
        "end_date = datetime.datetime.now() - datetime.timedelta(days=0)  # Yesterday\n",
        "print(end_date)\n",
        "start_date = end_date - datetime.timedelta(days=200)  # Last 200 days from yesterday\n",
        "\n",
        "\n",
        "tata_motors_stock_df = stock_df(symbol='TATAMOTORS',\n",
        "                                from_date=start_date,\n",
        "                                to_date=end_date,\n",
        "                                series=\"EQ\")\n",
        "\n",
        "# Make column names title case\n",
        "tata_motors_stock_df.rename(columns=lambda x: x.title(), inplace=True)\n",
        "\n",
        "tata_motors_stock_df"
      ],
      "metadata": {
        "colab": {
          "base_uri": "https://localhost:8080/",
          "height": 441
        },
        "id": "Od50n58mKOHI",
        "outputId": "33153078-87c7-4696-8381-3a1e594a587d"
      },
      "execution_count": null,
      "outputs": [
        {
          "output_type": "stream",
          "name": "stdout",
          "text": [
            "2024-04-15 19:24:49.631112\n"
          ]
        },
        {
          "output_type": "execute_result",
          "data": {
            "text/plain": [
              "          Date Series     Open     High      Low  Prev. Close      Ltp  \\\n",
              "0   2024-04-15     EQ   998.10  1006.95   978.50      1018.50   997.95   \n",
              "1   2024-04-12     EQ  1014.00  1029.00  1013.50      1013.50  1020.00   \n",
              "2   2024-04-10     EQ  1012.25  1021.00  1010.00      1008.50  1014.00   \n",
              "3   2024-04-09     EQ  1021.00  1029.50  1005.00      1013.20  1008.00   \n",
              "4   2024-04-08     EQ  1010.05  1016.40  1004.00      1007.10  1012.70   \n",
              "..         ...    ...      ...      ...      ...          ...      ...   \n",
              "130 2023-10-05     EQ   619.00   621.35   614.65       613.60   619.40   \n",
              "131 2023-10-04     EQ   620.80   620.80   608.30       620.45   614.40   \n",
              "132 2023-10-03     EQ   632.60   632.65   618.60       630.20   621.10   \n",
              "133 2023-09-29     EQ   618.70   633.00   617.00       614.10   631.00   \n",
              "134 2023-09-28     EQ   622.90   623.80   612.25       620.15   615.00   \n",
              "\n",
              "       Close     Vwap   52W H  52W L    Volume         Value  No Of Trades  \\\n",
              "0     998.80   996.59  1065.6  465.8  12632409  1.258937e+10        315872   \n",
              "1    1018.50  1022.78  1065.6  452.0  11575194  1.183890e+10        269532   \n",
              "2    1013.50  1013.34  1065.6  452.0   4554077  4.614809e+09        147535   \n",
              "3    1008.50  1016.63  1065.6  452.0   8539041  8.681063e+09        165448   \n",
              "4    1013.20  1011.67  1065.6  452.0   5188052  5.248589e+09        135516   \n",
              "..       ...      ...     ...    ...       ...           ...           ...   \n",
              "130   619.60   618.39   665.4  375.2   7893892  4.881508e+09        224347   \n",
              "131   613.60   613.73   665.4  375.2   7612709  4.672182e+09        224747   \n",
              "132   620.45   621.92   665.4  375.2   6894577  4.287872e+09        171925   \n",
              "133   630.20   628.64   665.4  375.2   8969405  5.638506e+09        151844   \n",
              "134   614.10   617.93   665.4  375.2   6768196  4.182292e+09        134821   \n",
              "\n",
              "         Symbol  \n",
              "0    TATAMOTORS  \n",
              "1    TATAMOTORS  \n",
              "2    TATAMOTORS  \n",
              "3    TATAMOTORS  \n",
              "4    TATAMOTORS  \n",
              "..          ...  \n",
              "130  TATAMOTORS  \n",
              "131  TATAMOTORS  \n",
              "132  TATAMOTORS  \n",
              "133  TATAMOTORS  \n",
              "134  TATAMOTORS  \n",
              "\n",
              "[135 rows x 15 columns]"
            ],
            "text/html": [
              "\n",
              "  <div id=\"df-9bf52989-699e-4eba-8dc7-0e9e0c313bff\" class=\"colab-df-container\">\n",
              "    <div>\n",
              "<style scoped>\n",
              "    .dataframe tbody tr th:only-of-type {\n",
              "        vertical-align: middle;\n",
              "    }\n",
              "\n",
              "    .dataframe tbody tr th {\n",
              "        vertical-align: top;\n",
              "    }\n",
              "\n",
              "    .dataframe thead th {\n",
              "        text-align: right;\n",
              "    }\n",
              "</style>\n",
              "<table border=\"1\" class=\"dataframe\">\n",
              "  <thead>\n",
              "    <tr style=\"text-align: right;\">\n",
              "      <th></th>\n",
              "      <th>Date</th>\n",
              "      <th>Series</th>\n",
              "      <th>Open</th>\n",
              "      <th>High</th>\n",
              "      <th>Low</th>\n",
              "      <th>Prev. Close</th>\n",
              "      <th>Ltp</th>\n",
              "      <th>Close</th>\n",
              "      <th>Vwap</th>\n",
              "      <th>52W H</th>\n",
              "      <th>52W L</th>\n",
              "      <th>Volume</th>\n",
              "      <th>Value</th>\n",
              "      <th>No Of Trades</th>\n",
              "      <th>Symbol</th>\n",
              "    </tr>\n",
              "  </thead>\n",
              "  <tbody>\n",
              "    <tr>\n",
              "      <th>0</th>\n",
              "      <td>2024-04-15</td>\n",
              "      <td>EQ</td>\n",
              "      <td>998.10</td>\n",
              "      <td>1006.95</td>\n",
              "      <td>978.50</td>\n",
              "      <td>1018.50</td>\n",
              "      <td>997.95</td>\n",
              "      <td>998.80</td>\n",
              "      <td>996.59</td>\n",
              "      <td>1065.6</td>\n",
              "      <td>465.8</td>\n",
              "      <td>12632409</td>\n",
              "      <td>1.258937e+10</td>\n",
              "      <td>315872</td>\n",
              "      <td>TATAMOTORS</td>\n",
              "    </tr>\n",
              "    <tr>\n",
              "      <th>1</th>\n",
              "      <td>2024-04-12</td>\n",
              "      <td>EQ</td>\n",
              "      <td>1014.00</td>\n",
              "      <td>1029.00</td>\n",
              "      <td>1013.50</td>\n",
              "      <td>1013.50</td>\n",
              "      <td>1020.00</td>\n",
              "      <td>1018.50</td>\n",
              "      <td>1022.78</td>\n",
              "      <td>1065.6</td>\n",
              "      <td>452.0</td>\n",
              "      <td>11575194</td>\n",
              "      <td>1.183890e+10</td>\n",
              "      <td>269532</td>\n",
              "      <td>TATAMOTORS</td>\n",
              "    </tr>\n",
              "    <tr>\n",
              "      <th>2</th>\n",
              "      <td>2024-04-10</td>\n",
              "      <td>EQ</td>\n",
              "      <td>1012.25</td>\n",
              "      <td>1021.00</td>\n",
              "      <td>1010.00</td>\n",
              "      <td>1008.50</td>\n",
              "      <td>1014.00</td>\n",
              "      <td>1013.50</td>\n",
              "      <td>1013.34</td>\n",
              "      <td>1065.6</td>\n",
              "      <td>452.0</td>\n",
              "      <td>4554077</td>\n",
              "      <td>4.614809e+09</td>\n",
              "      <td>147535</td>\n",
              "      <td>TATAMOTORS</td>\n",
              "    </tr>\n",
              "    <tr>\n",
              "      <th>3</th>\n",
              "      <td>2024-04-09</td>\n",
              "      <td>EQ</td>\n",
              "      <td>1021.00</td>\n",
              "      <td>1029.50</td>\n",
              "      <td>1005.00</td>\n",
              "      <td>1013.20</td>\n",
              "      <td>1008.00</td>\n",
              "      <td>1008.50</td>\n",
              "      <td>1016.63</td>\n",
              "      <td>1065.6</td>\n",
              "      <td>452.0</td>\n",
              "      <td>8539041</td>\n",
              "      <td>8.681063e+09</td>\n",
              "      <td>165448</td>\n",
              "      <td>TATAMOTORS</td>\n",
              "    </tr>\n",
              "    <tr>\n",
              "      <th>4</th>\n",
              "      <td>2024-04-08</td>\n",
              "      <td>EQ</td>\n",
              "      <td>1010.05</td>\n",
              "      <td>1016.40</td>\n",
              "      <td>1004.00</td>\n",
              "      <td>1007.10</td>\n",
              "      <td>1012.70</td>\n",
              "      <td>1013.20</td>\n",
              "      <td>1011.67</td>\n",
              "      <td>1065.6</td>\n",
              "      <td>452.0</td>\n",
              "      <td>5188052</td>\n",
              "      <td>5.248589e+09</td>\n",
              "      <td>135516</td>\n",
              "      <td>TATAMOTORS</td>\n",
              "    </tr>\n",
              "    <tr>\n",
              "      <th>...</th>\n",
              "      <td>...</td>\n",
              "      <td>...</td>\n",
              "      <td>...</td>\n",
              "      <td>...</td>\n",
              "      <td>...</td>\n",
              "      <td>...</td>\n",
              "      <td>...</td>\n",
              "      <td>...</td>\n",
              "      <td>...</td>\n",
              "      <td>...</td>\n",
              "      <td>...</td>\n",
              "      <td>...</td>\n",
              "      <td>...</td>\n",
              "      <td>...</td>\n",
              "      <td>...</td>\n",
              "    </tr>\n",
              "    <tr>\n",
              "      <th>130</th>\n",
              "      <td>2023-10-05</td>\n",
              "      <td>EQ</td>\n",
              "      <td>619.00</td>\n",
              "      <td>621.35</td>\n",
              "      <td>614.65</td>\n",
              "      <td>613.60</td>\n",
              "      <td>619.40</td>\n",
              "      <td>619.60</td>\n",
              "      <td>618.39</td>\n",
              "      <td>665.4</td>\n",
              "      <td>375.2</td>\n",
              "      <td>7893892</td>\n",
              "      <td>4.881508e+09</td>\n",
              "      <td>224347</td>\n",
              "      <td>TATAMOTORS</td>\n",
              "    </tr>\n",
              "    <tr>\n",
              "      <th>131</th>\n",
              "      <td>2023-10-04</td>\n",
              "      <td>EQ</td>\n",
              "      <td>620.80</td>\n",
              "      <td>620.80</td>\n",
              "      <td>608.30</td>\n",
              "      <td>620.45</td>\n",
              "      <td>614.40</td>\n",
              "      <td>613.60</td>\n",
              "      <td>613.73</td>\n",
              "      <td>665.4</td>\n",
              "      <td>375.2</td>\n",
              "      <td>7612709</td>\n",
              "      <td>4.672182e+09</td>\n",
              "      <td>224747</td>\n",
              "      <td>TATAMOTORS</td>\n",
              "    </tr>\n",
              "    <tr>\n",
              "      <th>132</th>\n",
              "      <td>2023-10-03</td>\n",
              "      <td>EQ</td>\n",
              "      <td>632.60</td>\n",
              "      <td>632.65</td>\n",
              "      <td>618.60</td>\n",
              "      <td>630.20</td>\n",
              "      <td>621.10</td>\n",
              "      <td>620.45</td>\n",
              "      <td>621.92</td>\n",
              "      <td>665.4</td>\n",
              "      <td>375.2</td>\n",
              "      <td>6894577</td>\n",
              "      <td>4.287872e+09</td>\n",
              "      <td>171925</td>\n",
              "      <td>TATAMOTORS</td>\n",
              "    </tr>\n",
              "    <tr>\n",
              "      <th>133</th>\n",
              "      <td>2023-09-29</td>\n",
              "      <td>EQ</td>\n",
              "      <td>618.70</td>\n",
              "      <td>633.00</td>\n",
              "      <td>617.00</td>\n",
              "      <td>614.10</td>\n",
              "      <td>631.00</td>\n",
              "      <td>630.20</td>\n",
              "      <td>628.64</td>\n",
              "      <td>665.4</td>\n",
              "      <td>375.2</td>\n",
              "      <td>8969405</td>\n",
              "      <td>5.638506e+09</td>\n",
              "      <td>151844</td>\n",
              "      <td>TATAMOTORS</td>\n",
              "    </tr>\n",
              "    <tr>\n",
              "      <th>134</th>\n",
              "      <td>2023-09-28</td>\n",
              "      <td>EQ</td>\n",
              "      <td>622.90</td>\n",
              "      <td>623.80</td>\n",
              "      <td>612.25</td>\n",
              "      <td>620.15</td>\n",
              "      <td>615.00</td>\n",
              "      <td>614.10</td>\n",
              "      <td>617.93</td>\n",
              "      <td>665.4</td>\n",
              "      <td>375.2</td>\n",
              "      <td>6768196</td>\n",
              "      <td>4.182292e+09</td>\n",
              "      <td>134821</td>\n",
              "      <td>TATAMOTORS</td>\n",
              "    </tr>\n",
              "  </tbody>\n",
              "</table>\n",
              "<p>135 rows × 15 columns</p>\n",
              "</div>\n",
              "    <div class=\"colab-df-buttons\">\n",
              "\n",
              "  <div class=\"colab-df-container\">\n",
              "    <button class=\"colab-df-convert\" onclick=\"convertToInteractive('df-9bf52989-699e-4eba-8dc7-0e9e0c313bff')\"\n",
              "            title=\"Convert this dataframe to an interactive table.\"\n",
              "            style=\"display:none;\">\n",
              "\n",
              "  <svg xmlns=\"http://www.w3.org/2000/svg\" height=\"24px\" viewBox=\"0 -960 960 960\">\n",
              "    <path d=\"M120-120v-720h720v720H120Zm60-500h600v-160H180v160Zm220 220h160v-160H400v160Zm0 220h160v-160H400v160ZM180-400h160v-160H180v160Zm440 0h160v-160H620v160ZM180-180h160v-160H180v160Zm440 0h160v-160H620v160Z\"/>\n",
              "  </svg>\n",
              "    </button>\n",
              "\n",
              "  <style>\n",
              "    .colab-df-container {\n",
              "      display:flex;\n",
              "      gap: 12px;\n",
              "    }\n",
              "\n",
              "    .colab-df-convert {\n",
              "      background-color: #E8F0FE;\n",
              "      border: none;\n",
              "      border-radius: 50%;\n",
              "      cursor: pointer;\n",
              "      display: none;\n",
              "      fill: #1967D2;\n",
              "      height: 32px;\n",
              "      padding: 0 0 0 0;\n",
              "      width: 32px;\n",
              "    }\n",
              "\n",
              "    .colab-df-convert:hover {\n",
              "      background-color: #E2EBFA;\n",
              "      box-shadow: 0px 1px 2px rgba(60, 64, 67, 0.3), 0px 1px 3px 1px rgba(60, 64, 67, 0.15);\n",
              "      fill: #174EA6;\n",
              "    }\n",
              "\n",
              "    .colab-df-buttons div {\n",
              "      margin-bottom: 4px;\n",
              "    }\n",
              "\n",
              "    [theme=dark] .colab-df-convert {\n",
              "      background-color: #3B4455;\n",
              "      fill: #D2E3FC;\n",
              "    }\n",
              "\n",
              "    [theme=dark] .colab-df-convert:hover {\n",
              "      background-color: #434B5C;\n",
              "      box-shadow: 0px 1px 3px 1px rgba(0, 0, 0, 0.15);\n",
              "      filter: drop-shadow(0px 1px 2px rgba(0, 0, 0, 0.3));\n",
              "      fill: #FFFFFF;\n",
              "    }\n",
              "  </style>\n",
              "\n",
              "    <script>\n",
              "      const buttonEl =\n",
              "        document.querySelector('#df-9bf52989-699e-4eba-8dc7-0e9e0c313bff button.colab-df-convert');\n",
              "      buttonEl.style.display =\n",
              "        google.colab.kernel.accessAllowed ? 'block' : 'none';\n",
              "\n",
              "      async function convertToInteractive(key) {\n",
              "        const element = document.querySelector('#df-9bf52989-699e-4eba-8dc7-0e9e0c313bff');\n",
              "        const dataTable =\n",
              "          await google.colab.kernel.invokeFunction('convertToInteractive',\n",
              "                                                    [key], {});\n",
              "        if (!dataTable) return;\n",
              "\n",
              "        const docLinkHtml = 'Like what you see? Visit the ' +\n",
              "          '<a target=\"_blank\" href=https://colab.research.google.com/notebooks/data_table.ipynb>data table notebook</a>'\n",
              "          + ' to learn more about interactive tables.';\n",
              "        element.innerHTML = '';\n",
              "        dataTable['output_type'] = 'display_data';\n",
              "        await google.colab.output.renderOutput(dataTable, element);\n",
              "        const docLink = document.createElement('div');\n",
              "        docLink.innerHTML = docLinkHtml;\n",
              "        element.appendChild(docLink);\n",
              "      }\n",
              "    </script>\n",
              "  </div>\n",
              "\n",
              "\n",
              "<div id=\"df-8df655f0-8483-4746-b1b3-3bab6c5bf3b7\">\n",
              "  <button class=\"colab-df-quickchart\" onclick=\"quickchart('df-8df655f0-8483-4746-b1b3-3bab6c5bf3b7')\"\n",
              "            title=\"Suggest charts\"\n",
              "            style=\"display:none;\">\n",
              "\n",
              "<svg xmlns=\"http://www.w3.org/2000/svg\" height=\"24px\"viewBox=\"0 0 24 24\"\n",
              "     width=\"24px\">\n",
              "    <g>\n",
              "        <path d=\"M19 3H5c-1.1 0-2 .9-2 2v14c0 1.1.9 2 2 2h14c1.1 0 2-.9 2-2V5c0-1.1-.9-2-2-2zM9 17H7v-7h2v7zm4 0h-2V7h2v10zm4 0h-2v-4h2v4z\"/>\n",
              "    </g>\n",
              "</svg>\n",
              "  </button>\n",
              "\n",
              "<style>\n",
              "  .colab-df-quickchart {\n",
              "      --bg-color: #E8F0FE;\n",
              "      --fill-color: #1967D2;\n",
              "      --hover-bg-color: #E2EBFA;\n",
              "      --hover-fill-color: #174EA6;\n",
              "      --disabled-fill-color: #AAA;\n",
              "      --disabled-bg-color: #DDD;\n",
              "  }\n",
              "\n",
              "  [theme=dark] .colab-df-quickchart {\n",
              "      --bg-color: #3B4455;\n",
              "      --fill-color: #D2E3FC;\n",
              "      --hover-bg-color: #434B5C;\n",
              "      --hover-fill-color: #FFFFFF;\n",
              "      --disabled-bg-color: #3B4455;\n",
              "      --disabled-fill-color: #666;\n",
              "  }\n",
              "\n",
              "  .colab-df-quickchart {\n",
              "    background-color: var(--bg-color);\n",
              "    border: none;\n",
              "    border-radius: 50%;\n",
              "    cursor: pointer;\n",
              "    display: none;\n",
              "    fill: var(--fill-color);\n",
              "    height: 32px;\n",
              "    padding: 0;\n",
              "    width: 32px;\n",
              "  }\n",
              "\n",
              "  .colab-df-quickchart:hover {\n",
              "    background-color: var(--hover-bg-color);\n",
              "    box-shadow: 0 1px 2px rgba(60, 64, 67, 0.3), 0 1px 3px 1px rgba(60, 64, 67, 0.15);\n",
              "    fill: var(--button-hover-fill-color);\n",
              "  }\n",
              "\n",
              "  .colab-df-quickchart-complete:disabled,\n",
              "  .colab-df-quickchart-complete:disabled:hover {\n",
              "    background-color: var(--disabled-bg-color);\n",
              "    fill: var(--disabled-fill-color);\n",
              "    box-shadow: none;\n",
              "  }\n",
              "\n",
              "  .colab-df-spinner {\n",
              "    border: 2px solid var(--fill-color);\n",
              "    border-color: transparent;\n",
              "    border-bottom-color: var(--fill-color);\n",
              "    animation:\n",
              "      spin 1s steps(1) infinite;\n",
              "  }\n",
              "\n",
              "  @keyframes spin {\n",
              "    0% {\n",
              "      border-color: transparent;\n",
              "      border-bottom-color: var(--fill-color);\n",
              "      border-left-color: var(--fill-color);\n",
              "    }\n",
              "    20% {\n",
              "      border-color: transparent;\n",
              "      border-left-color: var(--fill-color);\n",
              "      border-top-color: var(--fill-color);\n",
              "    }\n",
              "    30% {\n",
              "      border-color: transparent;\n",
              "      border-left-color: var(--fill-color);\n",
              "      border-top-color: var(--fill-color);\n",
              "      border-right-color: var(--fill-color);\n",
              "    }\n",
              "    40% {\n",
              "      border-color: transparent;\n",
              "      border-right-color: var(--fill-color);\n",
              "      border-top-color: var(--fill-color);\n",
              "    }\n",
              "    60% {\n",
              "      border-color: transparent;\n",
              "      border-right-color: var(--fill-color);\n",
              "    }\n",
              "    80% {\n",
              "      border-color: transparent;\n",
              "      border-right-color: var(--fill-color);\n",
              "      border-bottom-color: var(--fill-color);\n",
              "    }\n",
              "    90% {\n",
              "      border-color: transparent;\n",
              "      border-bottom-color: var(--fill-color);\n",
              "    }\n",
              "  }\n",
              "</style>\n",
              "\n",
              "  <script>\n",
              "    async function quickchart(key) {\n",
              "      const quickchartButtonEl =\n",
              "        document.querySelector('#' + key + ' button');\n",
              "      quickchartButtonEl.disabled = true;  // To prevent multiple clicks.\n",
              "      quickchartButtonEl.classList.add('colab-df-spinner');\n",
              "      try {\n",
              "        const charts = await google.colab.kernel.invokeFunction(\n",
              "            'suggestCharts', [key], {});\n",
              "      } catch (error) {\n",
              "        console.error('Error during call to suggestCharts:', error);\n",
              "      }\n",
              "      quickchartButtonEl.classList.remove('colab-df-spinner');\n",
              "      quickchartButtonEl.classList.add('colab-df-quickchart-complete');\n",
              "    }\n",
              "    (() => {\n",
              "      let quickchartButtonEl =\n",
              "        document.querySelector('#df-8df655f0-8483-4746-b1b3-3bab6c5bf3b7 button');\n",
              "      quickchartButtonEl.style.display =\n",
              "        google.colab.kernel.accessAllowed ? 'block' : 'none';\n",
              "    })();\n",
              "  </script>\n",
              "</div>\n",
              "    </div>\n",
              "  </div>\n"
            ],
            "application/vnd.google.colaboratory.intrinsic+json": {
              "type": "dataframe",
              "variable_name": "tata_motors_stock_df",
              "summary": "{\n  \"name\": \"tata_motors_stock_df\",\n  \"rows\": 135,\n  \"fields\": [\n    {\n      \"column\": \"Date\",\n      \"properties\": {\n        \"dtype\": \"date\",\n        \"min\": \"2023-09-28 00:00:00\",\n        \"max\": \"2024-04-15 00:00:00\",\n        \"num_unique_values\": 135,\n        \"samples\": [\n          \"2023-11-21 00:00:00\",\n          \"2024-01-05 00:00:00\",\n          \"2023-11-10 00:00:00\"\n        ],\n        \"semantic_type\": \"\",\n        \"description\": \"\"\n      }\n    },\n    {\n      \"column\": \"Series\",\n      \"properties\": {\n        \"dtype\": \"category\",\n        \"num_unique_values\": 1,\n        \"samples\": [\n          \"EQ\"\n        ],\n        \"semantic_type\": \"\",\n        \"description\": \"\"\n      }\n    },\n    {\n      \"column\": \"Open\",\n      \"properties\": {\n        \"dtype\": \"number\",\n        \"std\": 138.23381974576117,\n        \"min\": 618.7,\n        \"max\": 1034.75,\n        \"num_unique_values\": 130,\n        \"samples\": [\n          823.85\n        ],\n        \"semantic_type\": \"\",\n        \"description\": \"\"\n      }\n    },\n    {\n      \"column\": \"High\",\n      \"properties\": {\n        \"dtype\": \"number\",\n        \"std\": 140.30816277952238,\n        \"min\": 620.8,\n        \"max\": 1065.6,\n        \"num_unique_values\": 129,\n        \"samples\": [\n          822.95\n        ],\n        \"semantic_type\": \"\",\n        \"description\": \"\"\n      }\n    },\n    {\n      \"column\": \"Low\",\n      \"properties\": {\n        \"dtype\": \"number\",\n        \"std\": 135.79548362975814,\n        \"min\": 608.3,\n        \"max\": 1021.0,\n        \"num_unique_values\": 135,\n        \"samples\": [\n          675.0\n        ],\n        \"semantic_type\": \"\",\n        \"description\": \"\"\n      }\n    },\n    {\n      \"column\": \"Prev. Close\",\n      \"properties\": {\n        \"dtype\": \"number\",\n        \"std\": 137.86856087672786,\n        \"min\": 613.6,\n        \"max\": 1039.3,\n        \"num_unique_values\": 135,\n        \"samples\": [\n          674.3\n        ],\n        \"semantic_type\": \"\",\n        \"description\": \"\"\n      }\n    },\n    {\n      \"column\": \"Ltp\",\n      \"properties\": {\n        \"dtype\": \"number\",\n        \"std\": 138.27309573002248,\n        \"min\": 614.4,\n        \"max\": 1038.0,\n        \"num_unique_values\": 133,\n        \"samples\": [\n          864.9\n        ],\n        \"semantic_type\": \"\",\n        \"description\": \"\"\n      }\n    },\n    {\n      \"column\": \"Close\",\n      \"properties\": {\n        \"dtype\": \"number\",\n        \"std\": 137.9921567458929,\n        \"min\": 613.6,\n        \"max\": 1039.3,\n        \"num_unique_values\": 135,\n        \"samples\": [\n          681.7\n        ],\n        \"semantic_type\": \"\",\n        \"description\": \"\"\n      }\n    },\n    {\n      \"column\": \"Vwap\",\n      \"properties\": {\n        \"dtype\": \"number\",\n        \"std\": 138.23746667185367,\n        \"min\": 613.73,\n        \"max\": 1034.27,\n        \"num_unique_values\": 135,\n        \"samples\": [\n          679.23\n        ],\n        \"semantic_type\": \"\",\n        \"description\": \"\"\n      }\n    },\n    {\n      \"column\": \"52W H\",\n      \"properties\": {\n        \"dtype\": \"number\",\n        \"std\": 149.94430239926123,\n        \"min\": 665.4,\n        \"max\": 1065.6,\n        \"num_unique_values\": 36,\n        \"samples\": [\n          665.4\n        ],\n        \"semantic_type\": \"\",\n        \"description\": \"\"\n      }\n    },\n    {\n      \"column\": \"52W L\",\n      \"properties\": {\n        \"dtype\": \"number\",\n        \"std\": 18.414184655243712,\n        \"min\": 375.2,\n        \"max\": 465.8,\n        \"num_unique_values\": 8,\n        \"samples\": [\n          452.0\n        ],\n        \"semantic_type\": \"\",\n        \"description\": \"\"\n      }\n    },\n    {\n      \"column\": \"Volume\",\n      \"properties\": {\n        \"dtype\": \"number\",\n        \"std\": 7222310,\n        \"min\": 1783565,\n        \"max\": 59811033,\n        \"num_unique_values\": 135,\n        \"samples\": [\n          7291057\n        ],\n        \"semantic_type\": \"\",\n        \"description\": \"\"\n      }\n    },\n    {\n      \"column\": \"Value\",\n      \"properties\": {\n        \"dtype\": \"number\",\n        \"std\": 6864160672.680877,\n        \"min\": 1469021511.9,\n        \"max\": 61860832911.3,\n        \"num_unique_values\": 135,\n        \"samples\": [\n          4952272141.25\n        ],\n        \"semantic_type\": \"\",\n        \"description\": \"\"\n      }\n    },\n    {\n      \"column\": \"No Of Trades\",\n      \"properties\": {\n        \"dtype\": \"number\",\n        \"std\": 110950,\n        \"min\": 44527,\n        \"max\": 1021819,\n        \"num_unique_values\": 135,\n        \"samples\": [\n          179804\n        ],\n        \"semantic_type\": \"\",\n        \"description\": \"\"\n      }\n    },\n    {\n      \"column\": \"Symbol\",\n      \"properties\": {\n        \"dtype\": \"category\",\n        \"num_unique_values\": 1,\n        \"samples\": [\n          \"TATAMOTORS\"\n        ],\n        \"semantic_type\": \"\",\n        \"description\": \"\"\n      }\n    }\n  ]\n}"
            }
          },
          "metadata": {},
          "execution_count": 18
        }
      ]
    },
    {
      "cell_type": "code",
      "source": [],
      "metadata": {
        "id": "eMGA73SgK3Bp"
      },
      "execution_count": null,
      "outputs": []
    }
  ]
}